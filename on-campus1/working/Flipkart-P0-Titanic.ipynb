{
  "cells": [
    {
      "metadata": {
        "_uuid": "e231463f98b6acfd4b45043be90a0835f35b586a"
      },
      "cell_type": "markdown",
      "source": "# Exploring the environment"
    },
    {
      "metadata": {
        "trusted": true,
        "_uuid": "d95921bbf50684c84b0ec74d4afad5090fd9bef4"
      },
      "cell_type": "code",
      "source": "!pwd",
      "execution_count": 113,
      "outputs": [
        {
          "output_type": "stream",
          "text": "/kaggle/working\r\n",
          "name": "stdout"
        }
      ]
    },
    {
      "metadata": {
        "trusted": true,
        "_uuid": "cc1f31617a621ecfe38df5659e937ec17ca35539"
      },
      "cell_type": "code",
      "source": "!ls",
      "execution_count": 114,
      "outputs": [
        {
          "output_type": "stream",
          "text": "__notebook_source__.ipynb\r\n",
          "name": "stdout"
        }
      ]
    },
    {
      "metadata": {
        "trusted": true,
        "_uuid": "fe9a9d716c9ceac7eabdc299759d6a38b1e03c01"
      },
      "cell_type": "code",
      "source": "base_dir = '../'",
      "execution_count": 115,
      "outputs": []
    },
    {
      "metadata": {
        "trusted": true,
        "_uuid": "47fc99406ebb298f8c9a1cd338cbfaf31175e883"
      },
      "cell_type": "code",
      "source": "!ls {base_dir}",
      "execution_count": 116,
      "outputs": [
        {
          "output_type": "stream",
          "text": "config\tinput  lib  working\r\n",
          "name": "stdout"
        }
      ]
    },
    {
      "metadata": {
        "trusted": true,
        "_uuid": "5043f513ff3889aa346a99fa69d71e8613d852fc"
      },
      "cell_type": "code",
      "source": "!ls {base_dir+'/input'}",
      "execution_count": 117,
      "outputs": [
        {
          "output_type": "stream",
          "text": "README.md  project_description.md  titanic_data.csv  visuals.py\r\n",
          "name": "stdout"
        }
      ]
    },
    {
      "metadata": {
        "_uuid": "e8fd003b4ba05544bb3d51f17f0928e0859e984b"
      },
      "cell_type": "markdown",
      "source": "### Load and inspect data"
    },
    {
      "metadata": {
        "trusted": true,
        "_uuid": "3b5853433485f8d963e191dc43172cd7889be00c"
      },
      "cell_type": "code",
      "source": "# Import libraries necessary for this project\nimport numpy as np\nimport pandas as pd\nimport os   ## <<========\nfrom IPython.display import display # Allows the use of display() for DataFrames\n\n## Import supplementary visualizations code visuals.py\n## Change directory so that we can import visuals.py\nos.chdir('../input/') ## <<========\nimport visuals as vs\n\n## Change directory back to where we have the notebook\nos.chdir('../working/') ## <<========\n\n# Pretty display for notebooks\n%matplotlib inline\n\n# Load the dataset\nin_file = '../input/titanic_data.csv' ## <<========\nfull_data = pd.read_csv(in_file)\n\n# Print the first few entries of the RMS Titanic data\ndisplay(full_data.head())",
      "execution_count": 118,
      "outputs": [
        {
          "output_type": "display_data",
          "data": {
            "text/plain": "   PassengerId  Survived  Pclass    ...        Fare Cabin  Embarked\n0            1         0       3    ...      7.2500   NaN         S\n1            2         1       1    ...     71.2833   C85         C\n2            3         1       3    ...      7.9250   NaN         S\n3            4         1       1    ...     53.1000  C123         S\n4            5         0       3    ...      8.0500   NaN         S\n\n[5 rows x 12 columns]",
            "text/html": "<div>\n<style scoped>\n    .dataframe tbody tr th:only-of-type {\n        vertical-align: middle;\n    }\n\n    .dataframe tbody tr th {\n        vertical-align: top;\n    }\n\n    .dataframe thead th {\n        text-align: right;\n    }\n</style>\n<table border=\"1\" class=\"dataframe\">\n  <thead>\n    <tr style=\"text-align: right;\">\n      <th></th>\n      <th>PassengerId</th>\n      <th>Survived</th>\n      <th>Pclass</th>\n      <th>Name</th>\n      <th>Sex</th>\n      <th>Age</th>\n      <th>SibSp</th>\n      <th>Parch</th>\n      <th>Ticket</th>\n      <th>Fare</th>\n      <th>Cabin</th>\n      <th>Embarked</th>\n    </tr>\n  </thead>\n  <tbody>\n    <tr>\n      <th>0</th>\n      <td>1</td>\n      <td>0</td>\n      <td>3</td>\n      <td>Braund, Mr. Owen Harris</td>\n      <td>male</td>\n      <td>22.0</td>\n      <td>1</td>\n      <td>0</td>\n      <td>A/5 21171</td>\n      <td>7.2500</td>\n      <td>NaN</td>\n      <td>S</td>\n    </tr>\n    <tr>\n      <th>1</th>\n      <td>2</td>\n      <td>1</td>\n      <td>1</td>\n      <td>Cumings, Mrs. John Bradley (Florence Briggs Th...</td>\n      <td>female</td>\n      <td>38.0</td>\n      <td>1</td>\n      <td>0</td>\n      <td>PC 17599</td>\n      <td>71.2833</td>\n      <td>C85</td>\n      <td>C</td>\n    </tr>\n    <tr>\n      <th>2</th>\n      <td>3</td>\n      <td>1</td>\n      <td>3</td>\n      <td>Heikkinen, Miss. Laina</td>\n      <td>female</td>\n      <td>26.0</td>\n      <td>0</td>\n      <td>0</td>\n      <td>STON/O2. 3101282</td>\n      <td>7.9250</td>\n      <td>NaN</td>\n      <td>S</td>\n    </tr>\n    <tr>\n      <th>3</th>\n      <td>4</td>\n      <td>1</td>\n      <td>1</td>\n      <td>Futrelle, Mrs. Jacques Heath (Lily May Peel)</td>\n      <td>female</td>\n      <td>35.0</td>\n      <td>1</td>\n      <td>0</td>\n      <td>113803</td>\n      <td>53.1000</td>\n      <td>C123</td>\n      <td>S</td>\n    </tr>\n    <tr>\n      <th>4</th>\n      <td>5</td>\n      <td>0</td>\n      <td>3</td>\n      <td>Allen, Mr. William Henry</td>\n      <td>male</td>\n      <td>35.0</td>\n      <td>0</td>\n      <td>0</td>\n      <td>373450</td>\n      <td>8.0500</td>\n      <td>NaN</td>\n      <td>S</td>\n    </tr>\n  </tbody>\n</table>\n</div>"
          },
          "metadata": {}
        }
      ]
    },
    {
      "metadata": {
        "_uuid": "d986d3a8252f458a7dba38fd793e7570297d9d2c"
      },
      "cell_type": "markdown",
      "source": "### Check types"
    },
    {
      "metadata": {
        "trusted": true,
        "_uuid": "70cf7939427e183b3fede095c5ac1cab65cc6a5c"
      },
      "cell_type": "code",
      "source": "type(full_data)",
      "execution_count": 8,
      "outputs": [
        {
          "output_type": "execute_result",
          "execution_count": 8,
          "data": {
            "text/plain": "pandas.core.frame.DataFrame"
          },
          "metadata": {}
        }
      ]
    },
    {
      "metadata": {
        "_uuid": "bd7ee10c2445ce26a541de266719c030ea4000c8"
      },
      "cell_type": "markdown",
      "source": "### Check documentation"
    },
    {
      "metadata": {
        "trusted": true,
        "_uuid": "31f18a9af72bab23cc5586b15541bc026cfb2c30"
      },
      "cell_type": "code",
      "source": "?full_data",
      "execution_count": 9,
      "outputs": []
    },
    {
      "metadata": {
        "trusted": true,
        "_uuid": "945d420a9193a1449acb5cf54d35f4e96cfa5d2e"
      },
      "cell_type": "code",
      "source": "??full_data",
      "execution_count": 10,
      "outputs": []
    },
    {
      "metadata": {
        "_uuid": "0039712f01b3a33730dc21a83a9c264c0a73d7fc"
      },
      "cell_type": "markdown",
      "source": "### Metadata"
    },
    {
      "metadata": {
        "trusted": true,
        "_uuid": "f05bae122109f5f9d15361becd675d1f5aa22ef1"
      },
      "cell_type": "code",
      "source": "full_data.shape",
      "execution_count": 11,
      "outputs": [
        {
          "output_type": "execute_result",
          "execution_count": 11,
          "data": {
            "text/plain": "(891, 12)"
          },
          "metadata": {}
        }
      ]
    },
    {
      "metadata": {
        "trusted": true,
        "_uuid": "230fc85dd1a8d2cb5b9efbe80cfbaa0feab4af5f"
      },
      "cell_type": "code",
      "source": "full_data.size",
      "execution_count": 12,
      "outputs": [
        {
          "output_type": "execute_result",
          "execution_count": 12,
          "data": {
            "text/plain": "10692"
          },
          "metadata": {}
        }
      ]
    },
    {
      "metadata": {
        "trusted": true,
        "_uuid": "7c311a0aba84c32dd294ec02ee85ba7f787e75f4"
      },
      "cell_type": "code",
      "source": "?full_data.size",
      "execution_count": 13,
      "outputs": []
    },
    {
      "metadata": {
        "_uuid": "32342a2662463a84c71583b4919a4d3a9e44d04c"
      },
      "cell_type": "markdown",
      "source": "### Column names"
    },
    {
      "metadata": {
        "trusted": true,
        "_uuid": "b1b94f3500996a5506cec33af81bdf46dfe32684"
      },
      "cell_type": "code",
      "source": "full_data.columns",
      "execution_count": 14,
      "outputs": [
        {
          "output_type": "execute_result",
          "execution_count": 14,
          "data": {
            "text/plain": "Index(['PassengerId', 'Survived', 'Pclass', 'Name', 'Sex', 'Age', 'SibSp',\n       'Parch', 'Ticket', 'Fare', 'Cabin', 'Embarked'],\n      dtype='object')"
          },
          "metadata": {}
        }
      ]
    },
    {
      "metadata": {
        "trusted": true,
        "_uuid": "d664daa55dbdf68d35e91bf75873f0ad37cd05ba"
      },
      "cell_type": "code",
      "source": "for col_name in full_data.columns:\n    print(col_name,end=',')",
      "execution_count": 15,
      "outputs": [
        {
          "output_type": "stream",
          "text": "PassengerId,Survived,Pclass,Name,Sex,Age,SibSp,Parch,Ticket,Fare,Cabin,Embarked,",
          "name": "stdout"
        }
      ]
    },
    {
      "metadata": {
        "trusted": true,
        "_uuid": "be59f6cef1c7c1dcce216af1a103f7f997729ea5"
      },
      "cell_type": "code",
      "source": "list(full_data.columns)",
      "execution_count": 16,
      "outputs": [
        {
          "output_type": "execute_result",
          "execution_count": 16,
          "data": {
            "text/plain": "['PassengerId',\n 'Survived',\n 'Pclass',\n 'Name',\n 'Sex',\n 'Age',\n 'SibSp',\n 'Parch',\n 'Ticket',\n 'Fare',\n 'Cabin',\n 'Embarked']"
          },
          "metadata": {}
        }
      ]
    },
    {
      "metadata": {
        "_uuid": "fbe471b9922cc32f70f9dfdb445f74ee817a7127"
      },
      "cell_type": "markdown",
      "source": "### Accessing a column by name"
    },
    {
      "metadata": {
        "trusted": true,
        "_uuid": "b1c40b3299aa148f99b04497b249885f4a449c57"
      },
      "cell_type": "code",
      "source": "full_data.PassengerId",
      "execution_count": 17,
      "outputs": [
        {
          "output_type": "execute_result",
          "execution_count": 17,
          "data": {
            "text/plain": "0        1\n1        2\n2        3\n3        4\n4        5\n5        6\n6        7\n7        8\n8        9\n9       10\n10      11\n11      12\n12      13\n13      14\n14      15\n15      16\n16      17\n17      18\n18      19\n19      20\n20      21\n21      22\n22      23\n23      24\n24      25\n25      26\n26      27\n27      28\n28      29\n29      30\n      ... \n861    862\n862    863\n863    864\n864    865\n865    866\n866    867\n867    868\n868    869\n869    870\n870    871\n871    872\n872    873\n873    874\n874    875\n875    876\n876    877\n877    878\n878    879\n879    880\n880    881\n881    882\n882    883\n883    884\n884    885\n885    886\n886    887\n887    888\n888    889\n889    890\n890    891\nName: PassengerId, Length: 891, dtype: int64"
          },
          "metadata": {}
        }
      ]
    },
    {
      "metadata": {
        "trusted": true,
        "_uuid": "26c41ce1bd8975ec156dc702e38f90e3f8a88d7b"
      },
      "cell_type": "code",
      "source": "full_data['PassengerId']",
      "execution_count": 18,
      "outputs": [
        {
          "output_type": "execute_result",
          "execution_count": 18,
          "data": {
            "text/plain": "0        1\n1        2\n2        3\n3        4\n4        5\n5        6\n6        7\n7        8\n8        9\n9       10\n10      11\n11      12\n12      13\n13      14\n14      15\n15      16\n16      17\n17      18\n18      19\n19      20\n20      21\n21      22\n22      23\n23      24\n24      25\n25      26\n26      27\n27      28\n28      29\n29      30\n      ... \n861    862\n862    863\n863    864\n864    865\n865    866\n866    867\n867    868\n868    869\n869    870\n870    871\n871    872\n872    873\n873    874\n874    875\n875    876\n876    877\n877    878\n878    879\n879    880\n880    881\n881    882\n882    883\n883    884\n884    885\n885    886\n886    887\n887    888\n888    889\n889    890\n890    891\nName: PassengerId, Length: 891, dtype: int64"
          },
          "metadata": {}
        }
      ]
    },
    {
      "metadata": {
        "_uuid": "0aff65d5ffac78bda231ecae4b29aee5101125a9"
      },
      "cell_type": "markdown",
      "source": "### What's the type of a column?"
    },
    {
      "metadata": {
        "trusted": true,
        "_uuid": "de400b0d17adb8c42e5ecdf2554a8a99a96fb7c2"
      },
      "cell_type": "code",
      "source": "type(full_data.PassengerId)",
      "execution_count": 19,
      "outputs": [
        {
          "output_type": "execute_result",
          "execution_count": 19,
          "data": {
            "text/plain": "pandas.core.series.Series"
          },
          "metadata": {}
        }
      ]
    },
    {
      "metadata": {
        "_uuid": "386ff368e92231dc9b3bef51b3fba45843056959"
      },
      "cell_type": "markdown",
      "source": "### Accessing rows "
    },
    {
      "metadata": {
        "trusted": true,
        "_uuid": "5ce444cc13b4c2ca62b5e544ef3702f80d6ecaf0"
      },
      "cell_type": "code",
      "source": "full_data[0]",
      "execution_count": 20,
      "outputs": [
        {
          "output_type": "error",
          "ename": "KeyError",
          "evalue": "0",
          "traceback": [
            "\u001b[0;31m---------------------------------------------------------------------------\u001b[0m",
            "\u001b[0;31mKeyError\u001b[0m                                  Traceback (most recent call last)",
            "\u001b[0;32m/opt/conda/lib/python3.6/site-packages/pandas/core/indexes/base.py\u001b[0m in \u001b[0;36mget_loc\u001b[0;34m(self, key, method, tolerance)\u001b[0m\n\u001b[1;32m   3077\u001b[0m             \u001b[0;32mtry\u001b[0m\u001b[0;34m:\u001b[0m\u001b[0;34m\u001b[0m\u001b[0m\n\u001b[0;32m-> 3078\u001b[0;31m                 \u001b[0;32mreturn\u001b[0m \u001b[0mself\u001b[0m\u001b[0;34m.\u001b[0m\u001b[0m_engine\u001b[0m\u001b[0;34m.\u001b[0m\u001b[0mget_loc\u001b[0m\u001b[0;34m(\u001b[0m\u001b[0mkey\u001b[0m\u001b[0;34m)\u001b[0m\u001b[0;34m\u001b[0m\u001b[0m\n\u001b[0m\u001b[1;32m   3079\u001b[0m             \u001b[0;32mexcept\u001b[0m \u001b[0mKeyError\u001b[0m\u001b[0;34m:\u001b[0m\u001b[0;34m\u001b[0m\u001b[0m\n",
            "\u001b[0;32mpandas/_libs/index.pyx\u001b[0m in \u001b[0;36mpandas._libs.index.IndexEngine.get_loc\u001b[0;34m()\u001b[0m\n",
            "\u001b[0;32mpandas/_libs/index.pyx\u001b[0m in \u001b[0;36mpandas._libs.index.IndexEngine.get_loc\u001b[0;34m()\u001b[0m\n",
            "\u001b[0;32mpandas/_libs/hashtable_class_helper.pxi\u001b[0m in \u001b[0;36mpandas._libs.hashtable.PyObjectHashTable.get_item\u001b[0;34m()\u001b[0m\n",
            "\u001b[0;32mpandas/_libs/hashtable_class_helper.pxi\u001b[0m in \u001b[0;36mpandas._libs.hashtable.PyObjectHashTable.get_item\u001b[0;34m()\u001b[0m\n",
            "\u001b[0;31mKeyError\u001b[0m: 0",
            "\nDuring handling of the above exception, another exception occurred:\n",
            "\u001b[0;31mKeyError\u001b[0m                                  Traceback (most recent call last)",
            "\u001b[0;32m<ipython-input-20-c3305c011643>\u001b[0m in \u001b[0;36m<module>\u001b[0;34m()\u001b[0m\n\u001b[0;32m----> 1\u001b[0;31m \u001b[0mfull_data\u001b[0m\u001b[0;34m[\u001b[0m\u001b[0;36m0\u001b[0m\u001b[0;34m]\u001b[0m\u001b[0;34m\u001b[0m\u001b[0m\n\u001b[0m",
            "\u001b[0;32m/opt/conda/lib/python3.6/site-packages/pandas/core/frame.py\u001b[0m in \u001b[0;36m__getitem__\u001b[0;34m(self, key)\u001b[0m\n\u001b[1;32m   2686\u001b[0m             \u001b[0;32mreturn\u001b[0m \u001b[0mself\u001b[0m\u001b[0;34m.\u001b[0m\u001b[0m_getitem_multilevel\u001b[0m\u001b[0;34m(\u001b[0m\u001b[0mkey\u001b[0m\u001b[0;34m)\u001b[0m\u001b[0;34m\u001b[0m\u001b[0m\n\u001b[1;32m   2687\u001b[0m         \u001b[0;32melse\u001b[0m\u001b[0;34m:\u001b[0m\u001b[0;34m\u001b[0m\u001b[0m\n\u001b[0;32m-> 2688\u001b[0;31m             \u001b[0;32mreturn\u001b[0m \u001b[0mself\u001b[0m\u001b[0;34m.\u001b[0m\u001b[0m_getitem_column\u001b[0m\u001b[0;34m(\u001b[0m\u001b[0mkey\u001b[0m\u001b[0;34m)\u001b[0m\u001b[0;34m\u001b[0m\u001b[0m\n\u001b[0m\u001b[1;32m   2689\u001b[0m \u001b[0;34m\u001b[0m\u001b[0m\n\u001b[1;32m   2690\u001b[0m     \u001b[0;32mdef\u001b[0m \u001b[0m_getitem_column\u001b[0m\u001b[0;34m(\u001b[0m\u001b[0mself\u001b[0m\u001b[0;34m,\u001b[0m \u001b[0mkey\u001b[0m\u001b[0;34m)\u001b[0m\u001b[0;34m:\u001b[0m\u001b[0;34m\u001b[0m\u001b[0m\n",
            "\u001b[0;32m/opt/conda/lib/python3.6/site-packages/pandas/core/frame.py\u001b[0m in \u001b[0;36m_getitem_column\u001b[0;34m(self, key)\u001b[0m\n\u001b[1;32m   2693\u001b[0m         \u001b[0;31m# get column\u001b[0m\u001b[0;34m\u001b[0m\u001b[0;34m\u001b[0m\u001b[0m\n\u001b[1;32m   2694\u001b[0m         \u001b[0;32mif\u001b[0m \u001b[0mself\u001b[0m\u001b[0;34m.\u001b[0m\u001b[0mcolumns\u001b[0m\u001b[0;34m.\u001b[0m\u001b[0mis_unique\u001b[0m\u001b[0;34m:\u001b[0m\u001b[0;34m\u001b[0m\u001b[0m\n\u001b[0;32m-> 2695\u001b[0;31m             \u001b[0;32mreturn\u001b[0m \u001b[0mself\u001b[0m\u001b[0;34m.\u001b[0m\u001b[0m_get_item_cache\u001b[0m\u001b[0;34m(\u001b[0m\u001b[0mkey\u001b[0m\u001b[0;34m)\u001b[0m\u001b[0;34m\u001b[0m\u001b[0m\n\u001b[0m\u001b[1;32m   2696\u001b[0m \u001b[0;34m\u001b[0m\u001b[0m\n\u001b[1;32m   2697\u001b[0m         \u001b[0;31m# duplicate columns & possible reduce dimensionality\u001b[0m\u001b[0;34m\u001b[0m\u001b[0;34m\u001b[0m\u001b[0m\n",
            "\u001b[0;32m/opt/conda/lib/python3.6/site-packages/pandas/core/generic.py\u001b[0m in \u001b[0;36m_get_item_cache\u001b[0;34m(self, item)\u001b[0m\n\u001b[1;32m   2487\u001b[0m         \u001b[0mres\u001b[0m \u001b[0;34m=\u001b[0m \u001b[0mcache\u001b[0m\u001b[0;34m.\u001b[0m\u001b[0mget\u001b[0m\u001b[0;34m(\u001b[0m\u001b[0mitem\u001b[0m\u001b[0;34m)\u001b[0m\u001b[0;34m\u001b[0m\u001b[0m\n\u001b[1;32m   2488\u001b[0m         \u001b[0;32mif\u001b[0m \u001b[0mres\u001b[0m \u001b[0;32mis\u001b[0m \u001b[0;32mNone\u001b[0m\u001b[0;34m:\u001b[0m\u001b[0;34m\u001b[0m\u001b[0m\n\u001b[0;32m-> 2489\u001b[0;31m             \u001b[0mvalues\u001b[0m \u001b[0;34m=\u001b[0m \u001b[0mself\u001b[0m\u001b[0;34m.\u001b[0m\u001b[0m_data\u001b[0m\u001b[0;34m.\u001b[0m\u001b[0mget\u001b[0m\u001b[0;34m(\u001b[0m\u001b[0mitem\u001b[0m\u001b[0;34m)\u001b[0m\u001b[0;34m\u001b[0m\u001b[0m\n\u001b[0m\u001b[1;32m   2490\u001b[0m             \u001b[0mres\u001b[0m \u001b[0;34m=\u001b[0m \u001b[0mself\u001b[0m\u001b[0;34m.\u001b[0m\u001b[0m_box_item_values\u001b[0m\u001b[0;34m(\u001b[0m\u001b[0mitem\u001b[0m\u001b[0;34m,\u001b[0m \u001b[0mvalues\u001b[0m\u001b[0;34m)\u001b[0m\u001b[0;34m\u001b[0m\u001b[0m\n\u001b[1;32m   2491\u001b[0m             \u001b[0mcache\u001b[0m\u001b[0;34m[\u001b[0m\u001b[0mitem\u001b[0m\u001b[0;34m]\u001b[0m \u001b[0;34m=\u001b[0m \u001b[0mres\u001b[0m\u001b[0;34m\u001b[0m\u001b[0m\n",
            "\u001b[0;32m/opt/conda/lib/python3.6/site-packages/pandas/core/internals.py\u001b[0m in \u001b[0;36mget\u001b[0;34m(self, item, fastpath)\u001b[0m\n\u001b[1;32m   4113\u001b[0m \u001b[0;34m\u001b[0m\u001b[0m\n\u001b[1;32m   4114\u001b[0m             \u001b[0;32mif\u001b[0m \u001b[0;32mnot\u001b[0m \u001b[0misna\u001b[0m\u001b[0;34m(\u001b[0m\u001b[0mitem\u001b[0m\u001b[0;34m)\u001b[0m\u001b[0;34m:\u001b[0m\u001b[0;34m\u001b[0m\u001b[0m\n\u001b[0;32m-> 4115\u001b[0;31m                 \u001b[0mloc\u001b[0m \u001b[0;34m=\u001b[0m \u001b[0mself\u001b[0m\u001b[0;34m.\u001b[0m\u001b[0mitems\u001b[0m\u001b[0;34m.\u001b[0m\u001b[0mget_loc\u001b[0m\u001b[0;34m(\u001b[0m\u001b[0mitem\u001b[0m\u001b[0;34m)\u001b[0m\u001b[0;34m\u001b[0m\u001b[0m\n\u001b[0m\u001b[1;32m   4116\u001b[0m             \u001b[0;32melse\u001b[0m\u001b[0;34m:\u001b[0m\u001b[0;34m\u001b[0m\u001b[0m\n\u001b[1;32m   4117\u001b[0m                 \u001b[0mindexer\u001b[0m \u001b[0;34m=\u001b[0m \u001b[0mnp\u001b[0m\u001b[0;34m.\u001b[0m\u001b[0marange\u001b[0m\u001b[0;34m(\u001b[0m\u001b[0mlen\u001b[0m\u001b[0;34m(\u001b[0m\u001b[0mself\u001b[0m\u001b[0;34m.\u001b[0m\u001b[0mitems\u001b[0m\u001b[0;34m)\u001b[0m\u001b[0;34m)\u001b[0m\u001b[0;34m[\u001b[0m\u001b[0misna\u001b[0m\u001b[0;34m(\u001b[0m\u001b[0mself\u001b[0m\u001b[0;34m.\u001b[0m\u001b[0mitems\u001b[0m\u001b[0;34m)\u001b[0m\u001b[0;34m]\u001b[0m\u001b[0;34m\u001b[0m\u001b[0m\n",
            "\u001b[0;32m/opt/conda/lib/python3.6/site-packages/pandas/core/indexes/base.py\u001b[0m in \u001b[0;36mget_loc\u001b[0;34m(self, key, method, tolerance)\u001b[0m\n\u001b[1;32m   3078\u001b[0m                 \u001b[0;32mreturn\u001b[0m \u001b[0mself\u001b[0m\u001b[0;34m.\u001b[0m\u001b[0m_engine\u001b[0m\u001b[0;34m.\u001b[0m\u001b[0mget_loc\u001b[0m\u001b[0;34m(\u001b[0m\u001b[0mkey\u001b[0m\u001b[0;34m)\u001b[0m\u001b[0;34m\u001b[0m\u001b[0m\n\u001b[1;32m   3079\u001b[0m             \u001b[0;32mexcept\u001b[0m \u001b[0mKeyError\u001b[0m\u001b[0;34m:\u001b[0m\u001b[0;34m\u001b[0m\u001b[0m\n\u001b[0;32m-> 3080\u001b[0;31m                 \u001b[0;32mreturn\u001b[0m \u001b[0mself\u001b[0m\u001b[0;34m.\u001b[0m\u001b[0m_engine\u001b[0m\u001b[0;34m.\u001b[0m\u001b[0mget_loc\u001b[0m\u001b[0;34m(\u001b[0m\u001b[0mself\u001b[0m\u001b[0;34m.\u001b[0m\u001b[0m_maybe_cast_indexer\u001b[0m\u001b[0;34m(\u001b[0m\u001b[0mkey\u001b[0m\u001b[0;34m)\u001b[0m\u001b[0;34m)\u001b[0m\u001b[0;34m\u001b[0m\u001b[0m\n\u001b[0m\u001b[1;32m   3081\u001b[0m \u001b[0;34m\u001b[0m\u001b[0m\n\u001b[1;32m   3082\u001b[0m         \u001b[0mindexer\u001b[0m \u001b[0;34m=\u001b[0m \u001b[0mself\u001b[0m\u001b[0;34m.\u001b[0m\u001b[0mget_indexer\u001b[0m\u001b[0;34m(\u001b[0m\u001b[0;34m[\u001b[0m\u001b[0mkey\u001b[0m\u001b[0;34m]\u001b[0m\u001b[0;34m,\u001b[0m \u001b[0mmethod\u001b[0m\u001b[0;34m=\u001b[0m\u001b[0mmethod\u001b[0m\u001b[0;34m,\u001b[0m \u001b[0mtolerance\u001b[0m\u001b[0;34m=\u001b[0m\u001b[0mtolerance\u001b[0m\u001b[0;34m)\u001b[0m\u001b[0;34m\u001b[0m\u001b[0m\n",
            "\u001b[0;32mpandas/_libs/index.pyx\u001b[0m in \u001b[0;36mpandas._libs.index.IndexEngine.get_loc\u001b[0;34m()\u001b[0m\n",
            "\u001b[0;32mpandas/_libs/index.pyx\u001b[0m in \u001b[0;36mpandas._libs.index.IndexEngine.get_loc\u001b[0;34m()\u001b[0m\n",
            "\u001b[0;32mpandas/_libs/hashtable_class_helper.pxi\u001b[0m in \u001b[0;36mpandas._libs.hashtable.PyObjectHashTable.get_item\u001b[0;34m()\u001b[0m\n",
            "\u001b[0;32mpandas/_libs/hashtable_class_helper.pxi\u001b[0m in \u001b[0;36mpandas._libs.hashtable.PyObjectHashTable.get_item\u001b[0;34m()\u001b[0m\n",
            "\u001b[0;31mKeyError\u001b[0m: 0"
          ]
        }
      ]
    },
    {
      "metadata": {
        "trusted": true,
        "_uuid": "6fdbc5f26cff2461a257ccf0e7bea18bde60d4fd"
      },
      "cell_type": "code",
      "source": "full_data.iloc[0]",
      "execution_count": null,
      "outputs": []
    },
    {
      "metadata": {
        "trusted": true,
        "_uuid": "58f7cd501c020e0bac15762bdd1febec70961dd1"
      },
      "cell_type": "code",
      "source": "?full_data.iloc",
      "execution_count": 21,
      "outputs": []
    },
    {
      "metadata": {
        "trusted": true,
        "_uuid": "69a1a7c89c4063da57e25fb383d7397dca778903"
      },
      "cell_type": "code",
      "source": "full_data.iloc[0, 2:5]",
      "execution_count": 22,
      "outputs": [
        {
          "output_type": "execute_result",
          "execution_count": 22,
          "data": {
            "text/plain": "Pclass                          3\nName      Braund, Mr. Owen Harris\nSex                          male\nName: 0, dtype: object"
          },
          "metadata": {}
        }
      ]
    },
    {
      "metadata": {
        "_uuid": "58bd4ef6dabdbcb90680c833d9dff28e97e7cfb0"
      },
      "cell_type": "markdown",
      "source": "### What's the type of a row?"
    },
    {
      "metadata": {
        "trusted": true,
        "_uuid": "2a58698f092b9e25078c91fa18086c7689efaa0d"
      },
      "cell_type": "code",
      "source": "type(full_data.iloc[0])",
      "execution_count": 23,
      "outputs": [
        {
          "output_type": "execute_result",
          "execution_count": 23,
          "data": {
            "text/plain": "pandas.core.series.Series"
          },
          "metadata": {}
        }
      ]
    },
    {
      "metadata": {
        "_uuid": "c513507f5709662c7a421bbf4143ac1049434c92"
      },
      "cell_type": "markdown",
      "source": "### Access a single element and get its type."
    },
    {
      "metadata": {
        "trusted": true,
        "_uuid": "1ea899f3f5117ccd0803ed6b44b29764e81c2532"
      },
      "cell_type": "code",
      "source": "type(full_data.iloc[0,0])",
      "execution_count": 24,
      "outputs": [
        {
          "output_type": "execute_result",
          "execution_count": 24,
          "data": {
            "text/plain": "numpy.int64"
          },
          "metadata": {}
        }
      ]
    },
    {
      "metadata": {
        "trusted": true,
        "_uuid": "b6b39925220ae5df14c425aade225b2d7dcd8bb3"
      },
      "cell_type": "code",
      "source": "full_data.iloc[0,0].dtype",
      "execution_count": 25,
      "outputs": [
        {
          "output_type": "execute_result",
          "execution_count": 25,
          "data": {
            "text/plain": "dtype('int64')"
          },
          "metadata": {}
        }
      ]
    },
    {
      "metadata": {
        "_uuid": "47c38ac1c9f814aaec899228f973732ca30a1c5c"
      },
      "cell_type": "markdown",
      "source": "### Take out two columns"
    },
    {
      "metadata": {
        "trusted": true,
        "_uuid": "a741c9cbc2bfebc3f8d8a4640630b5a221adecd2"
      },
      "cell_type": "code",
      "source": "sub_data1 = full_data[['Survived', 'Sex']]",
      "execution_count": 26,
      "outputs": []
    },
    {
      "metadata": {
        "trusted": true,
        "_uuid": "1baeec707541b53b403d7c417f9be9fcb6a4fe97"
      },
      "cell_type": "code",
      "source": "sub_data1.head()",
      "execution_count": 27,
      "outputs": [
        {
          "output_type": "execute_result",
          "execution_count": 27,
          "data": {
            "text/plain": "   Survived     Sex\n0         0    male\n1         1  female\n2         1  female\n3         1  female\n4         0    male",
            "text/html": "<div>\n<style scoped>\n    .dataframe tbody tr th:only-of-type {\n        vertical-align: middle;\n    }\n\n    .dataframe tbody tr th {\n        vertical-align: top;\n    }\n\n    .dataframe thead th {\n        text-align: right;\n    }\n</style>\n<table border=\"1\" class=\"dataframe\">\n  <thead>\n    <tr style=\"text-align: right;\">\n      <th></th>\n      <th>Survived</th>\n      <th>Sex</th>\n    </tr>\n  </thead>\n  <tbody>\n    <tr>\n      <th>0</th>\n      <td>0</td>\n      <td>male</td>\n    </tr>\n    <tr>\n      <th>1</th>\n      <td>1</td>\n      <td>female</td>\n    </tr>\n    <tr>\n      <th>2</th>\n      <td>1</td>\n      <td>female</td>\n    </tr>\n    <tr>\n      <th>3</th>\n      <td>1</td>\n      <td>female</td>\n    </tr>\n    <tr>\n      <th>4</th>\n      <td>0</td>\n      <td>male</td>\n    </tr>\n  </tbody>\n</table>\n</div>"
          },
          "metadata": {}
        }
      ]
    },
    {
      "metadata": {
        "trusted": true,
        "_uuid": "8448b23c9c43a72786dd8c4aaf1504abc580c2da"
      },
      "cell_type": "code",
      "source": "sub_data1['Sex'].value_counts()",
      "execution_count": 28,
      "outputs": [
        {
          "output_type": "execute_result",
          "execution_count": 28,
          "data": {
            "text/plain": "male      577\nfemale    314\nName: Sex, dtype: int64"
          },
          "metadata": {}
        }
      ]
    },
    {
      "metadata": {
        "_uuid": "214e81afc2ff9b446508ad405a1823cb03ae6a2b"
      },
      "cell_type": "markdown",
      "source": "### Grouping and aggregation"
    },
    {
      "metadata": {
        "trusted": true,
        "_uuid": "821c02eec20b92e7373046a5ebbb429ae49b3071"
      },
      "cell_type": "code",
      "source": "grouped1 = sub_data1.groupby('Sex')",
      "execution_count": 29,
      "outputs": []
    },
    {
      "metadata": {
        "trusted": true,
        "_uuid": "9af18bfe66dc6e4156465ba05615d177ca849f1c"
      },
      "cell_type": "code",
      "source": "type(grouped1)",
      "execution_count": 30,
      "outputs": [
        {
          "output_type": "execute_result",
          "execution_count": 30,
          "data": {
            "text/plain": "pandas.core.groupby.groupby.DataFrameGroupBy"
          },
          "metadata": {}
        }
      ]
    },
    {
      "metadata": {
        "trusted": true,
        "_uuid": "4963c3729cdcddbaf0b50f2e8efa6adaccf5d104"
      },
      "cell_type": "code",
      "source": "grouped1.groups",
      "execution_count": 31,
      "outputs": [
        {
          "output_type": "execute_result",
          "execution_count": 31,
          "data": {
            "text/plain": "{'female': Int64Index([  1,   2,   3,   8,   9,  10,  11,  14,  15,  18,\n             ...\n             866, 871, 874, 875, 879, 880, 882, 885, 887, 888],\n            dtype='int64', length=314),\n 'male': Int64Index([  0,   4,   5,   6,   7,  12,  13,  16,  17,  20,\n             ...\n             873, 876, 877, 878, 881, 883, 884, 886, 889, 890],\n            dtype='int64', length=577)}"
          },
          "metadata": {}
        }
      ]
    },
    {
      "metadata": {
        "trusted": true,
        "_uuid": "0563bd5b6e3a42a9698d36e081c1a425cf81a147"
      },
      "cell_type": "code",
      "source": "grouped1.size()",
      "execution_count": 32,
      "outputs": [
        {
          "output_type": "execute_result",
          "execution_count": 32,
          "data": {
            "text/plain": "Sex\nfemale    314\nmale      577\ndtype: int64"
          },
          "metadata": {}
        }
      ]
    },
    {
      "metadata": {
        "_uuid": "211e77b904ba6a408ffd218d90772e8e6ada776c"
      },
      "cell_type": "markdown",
      "source": "### Get a 'grouped column' out of a 'grouped data frame'"
    },
    {
      "metadata": {
        "trusted": true,
        "_uuid": "d0f59712cb3de20946951f53ae6873f4eda4309a"
      },
      "cell_type": "code",
      "source": "grouped1.Survived",
      "execution_count": 33,
      "outputs": [
        {
          "output_type": "execute_result",
          "execution_count": 33,
          "data": {
            "text/plain": "<pandas.core.groupby.groupby.SeriesGroupBy object at 0x7fade58499e8>"
          },
          "metadata": {}
        }
      ]
    },
    {
      "metadata": {
        "trusted": true,
        "_uuid": "bd11db65304824070d5b161a8b5be64037b92653"
      },
      "cell_type": "code",
      "source": "grouped1.Survived.value_counts()",
      "execution_count": 34,
      "outputs": [
        {
          "output_type": "execute_result",
          "execution_count": 34,
          "data": {
            "text/plain": "Sex     Survived\nfemale  1           233\n        0            81\nmale    0           468\n        1           109\nName: Survived, dtype: int64"
          },
          "metadata": {}
        }
      ]
    },
    {
      "metadata": {
        "trusted": true,
        "_uuid": "f8a51ab5859a7675b20c36dc51acde7349ca2473"
      },
      "cell_type": "code",
      "source": "grouped1.Survived.agg(np.mean)",
      "execution_count": 35,
      "outputs": [
        {
          "output_type": "execute_result",
          "execution_count": 35,
          "data": {
            "text/plain": "Sex\nfemale    0.742038\nmale      0.188908\nName: Survived, dtype: float64"
          },
          "metadata": {}
        }
      ]
    },
    {
      "metadata": {
        "_uuid": "ac2b4dd6f28975891307e556d26f3debe45c58e0"
      },
      "cell_type": "markdown",
      "source": "### Look at the travel class column"
    },
    {
      "metadata": {
        "trusted": true,
        "_uuid": "fd8172f2ae3698a33b38c3249227ca7e81478930"
      },
      "cell_type": "code",
      "source": "full_data['Pclass'].dtype",
      "execution_count": 36,
      "outputs": [
        {
          "output_type": "execute_result",
          "execution_count": 36,
          "data": {
            "text/plain": "dtype('int64')"
          },
          "metadata": {}
        }
      ]
    },
    {
      "metadata": {
        "trusted": true,
        "_uuid": "fd1a16bec720d8863974ea82a74f54a21d32f8e0"
      },
      "cell_type": "code",
      "source": "sub_data2 = full_data[['Survived','Pclass']]",
      "execution_count": 37,
      "outputs": []
    },
    {
      "metadata": {
        "trusted": true,
        "_uuid": "13a83624cc06eaa2bfa5a941fbf0f2c2ad75021c"
      },
      "cell_type": "code",
      "source": "grouped2 = sub_data2.groupby('Pclass')",
      "execution_count": 38,
      "outputs": []
    },
    {
      "metadata": {
        "trusted": true,
        "_uuid": "255ff3f8e89c78b0adaa01303475af053f3f4047"
      },
      "cell_type": "code",
      "source": "grouped2.Survived.value_counts()",
      "execution_count": 39,
      "outputs": [
        {
          "output_type": "execute_result",
          "execution_count": 39,
          "data": {
            "text/plain": "Pclass  Survived\n1       1           136\n        0            80\n2       0            97\n        1            87\n3       0           372\n        1           119\nName: Survived, dtype: int64"
          },
          "metadata": {}
        }
      ]
    },
    {
      "metadata": {
        "_uuid": "fec6db76b1e6fb0e62b42e7a23802a07bb1af30f"
      },
      "cell_type": "markdown",
      "source": "### Look at `age` column"
    },
    {
      "metadata": {
        "trusted": true,
        "_uuid": "8422479abe7d293f4356bd252c8159df673288e6"
      },
      "cell_type": "code",
      "source": "full_data['Age'].dtype",
      "execution_count": 40,
      "outputs": [
        {
          "output_type": "execute_result",
          "execution_count": 40,
          "data": {
            "text/plain": "dtype('float64')"
          },
          "metadata": {}
        }
      ]
    },
    {
      "metadata": {
        "trusted": true,
        "_uuid": "a7b48e6ef8a030d7a6aafc846cae2053dcd1e5e2"
      },
      "cell_type": "code",
      "source": "full_data['Age'].describe()",
      "execution_count": 41,
      "outputs": [
        {
          "output_type": "execute_result",
          "execution_count": 41,
          "data": {
            "text/plain": "count    714.000000\nmean      29.699118\nstd       14.526497\nmin        0.420000\n25%       20.125000\n50%       28.000000\n75%       38.000000\nmax       80.000000\nName: Age, dtype: float64"
          },
          "metadata": {}
        }
      ]
    },
    {
      "metadata": {
        "trusted": true,
        "_uuid": "d50de5cd4891c6aaca034ce538b99e37d7d067db"
      },
      "cell_type": "code",
      "source": "sub_data3 = full_data[['Survived', 'Age']]",
      "execution_count": 42,
      "outputs": []
    },
    {
      "metadata": {
        "trusted": true,
        "_uuid": "cdc7f730e7278bb3cc476e5cf5451528427ed583"
      },
      "cell_type": "code",
      "source": "sub_data4 = sub_data3.dropna()",
      "execution_count": 43,
      "outputs": []
    },
    {
      "metadata": {
        "trusted": true,
        "_uuid": "fc23160e8102aaaeb10381eadfe8dfdf16118b3d"
      },
      "cell_type": "code",
      "source": "sorted4 = sub_data4.sort_values('Age')",
      "execution_count": 44,
      "outputs": []
    },
    {
      "metadata": {
        "trusted": true,
        "_uuid": "37980386949ac28a99d506293aa5a234b4629d3d"
      },
      "cell_type": "code",
      "source": "sorted4",
      "execution_count": 45,
      "outputs": [
        {
          "output_type": "execute_result",
          "execution_count": 45,
          "data": {
            "text/plain": "     Survived    Age\n803         1   0.42\n755         1   0.67\n644         1   0.75\n469         1   0.75\n78          1   0.83\n831         1   0.83\n305         1   0.92\n827         1   1.00\n381         1   1.00\n164         0   1.00\n183         1   1.00\n386         0   1.00\n172         1   1.00\n788         1   1.00\n642         0   2.00\n7           0   2.00\n530         1   2.00\n297         0   2.00\n824         0   2.00\n205         0   2.00\n119         0   2.00\n340         1   2.00\n479         1   2.00\n16          0   2.00\n348         1   3.00\n407         1   3.00\n374         0   3.00\n261         1   3.00\n43          1   3.00\n193         1   3.00\n..        ...    ...\n487         0  58.00\n268         1  58.00\n232         0  59.00\n94          0  59.00\n694         0  60.00\n684         0  60.00\n587         1  60.00\n366         1  60.00\n170         0  61.00\n326         0  61.00\n625         0  61.00\n252         0  62.00\n829         1  62.00\n570         1  62.00\n555         0  62.00\n275         1  63.00\n483         1  63.00\n438         0  64.00\n545         0  64.00\n54          0  65.00\n280         0  65.00\n456         0  65.00\n33          0  66.00\n672         0  70.00\n745         0  70.00\n116         0  70.50\n493         0  71.00\n96          0  71.00\n851         0  74.00\n630         1  80.00\n\n[714 rows x 2 columns]",
            "text/html": "<div>\n<style scoped>\n    .dataframe tbody tr th:only-of-type {\n        vertical-align: middle;\n    }\n\n    .dataframe tbody tr th {\n        vertical-align: top;\n    }\n\n    .dataframe thead th {\n        text-align: right;\n    }\n</style>\n<table border=\"1\" class=\"dataframe\">\n  <thead>\n    <tr style=\"text-align: right;\">\n      <th></th>\n      <th>Survived</th>\n      <th>Age</th>\n    </tr>\n  </thead>\n  <tbody>\n    <tr>\n      <th>803</th>\n      <td>1</td>\n      <td>0.42</td>\n    </tr>\n    <tr>\n      <th>755</th>\n      <td>1</td>\n      <td>0.67</td>\n    </tr>\n    <tr>\n      <th>644</th>\n      <td>1</td>\n      <td>0.75</td>\n    </tr>\n    <tr>\n      <th>469</th>\n      <td>1</td>\n      <td>0.75</td>\n    </tr>\n    <tr>\n      <th>78</th>\n      <td>1</td>\n      <td>0.83</td>\n    </tr>\n    <tr>\n      <th>831</th>\n      <td>1</td>\n      <td>0.83</td>\n    </tr>\n    <tr>\n      <th>305</th>\n      <td>1</td>\n      <td>0.92</td>\n    </tr>\n    <tr>\n      <th>827</th>\n      <td>1</td>\n      <td>1.00</td>\n    </tr>\n    <tr>\n      <th>381</th>\n      <td>1</td>\n      <td>1.00</td>\n    </tr>\n    <tr>\n      <th>164</th>\n      <td>0</td>\n      <td>1.00</td>\n    </tr>\n    <tr>\n      <th>183</th>\n      <td>1</td>\n      <td>1.00</td>\n    </tr>\n    <tr>\n      <th>386</th>\n      <td>0</td>\n      <td>1.00</td>\n    </tr>\n    <tr>\n      <th>172</th>\n      <td>1</td>\n      <td>1.00</td>\n    </tr>\n    <tr>\n      <th>788</th>\n      <td>1</td>\n      <td>1.00</td>\n    </tr>\n    <tr>\n      <th>642</th>\n      <td>0</td>\n      <td>2.00</td>\n    </tr>\n    <tr>\n      <th>7</th>\n      <td>0</td>\n      <td>2.00</td>\n    </tr>\n    <tr>\n      <th>530</th>\n      <td>1</td>\n      <td>2.00</td>\n    </tr>\n    <tr>\n      <th>297</th>\n      <td>0</td>\n      <td>2.00</td>\n    </tr>\n    <tr>\n      <th>824</th>\n      <td>0</td>\n      <td>2.00</td>\n    </tr>\n    <tr>\n      <th>205</th>\n      <td>0</td>\n      <td>2.00</td>\n    </tr>\n    <tr>\n      <th>119</th>\n      <td>0</td>\n      <td>2.00</td>\n    </tr>\n    <tr>\n      <th>340</th>\n      <td>1</td>\n      <td>2.00</td>\n    </tr>\n    <tr>\n      <th>479</th>\n      <td>1</td>\n      <td>2.00</td>\n    </tr>\n    <tr>\n      <th>16</th>\n      <td>0</td>\n      <td>2.00</td>\n    </tr>\n    <tr>\n      <th>348</th>\n      <td>1</td>\n      <td>3.00</td>\n    </tr>\n    <tr>\n      <th>407</th>\n      <td>1</td>\n      <td>3.00</td>\n    </tr>\n    <tr>\n      <th>374</th>\n      <td>0</td>\n      <td>3.00</td>\n    </tr>\n    <tr>\n      <th>261</th>\n      <td>1</td>\n      <td>3.00</td>\n    </tr>\n    <tr>\n      <th>43</th>\n      <td>1</td>\n      <td>3.00</td>\n    </tr>\n    <tr>\n      <th>193</th>\n      <td>1</td>\n      <td>3.00</td>\n    </tr>\n    <tr>\n      <th>...</th>\n      <td>...</td>\n      <td>...</td>\n    </tr>\n    <tr>\n      <th>487</th>\n      <td>0</td>\n      <td>58.00</td>\n    </tr>\n    <tr>\n      <th>268</th>\n      <td>1</td>\n      <td>58.00</td>\n    </tr>\n    <tr>\n      <th>232</th>\n      <td>0</td>\n      <td>59.00</td>\n    </tr>\n    <tr>\n      <th>94</th>\n      <td>0</td>\n      <td>59.00</td>\n    </tr>\n    <tr>\n      <th>694</th>\n      <td>0</td>\n      <td>60.00</td>\n    </tr>\n    <tr>\n      <th>684</th>\n      <td>0</td>\n      <td>60.00</td>\n    </tr>\n    <tr>\n      <th>587</th>\n      <td>1</td>\n      <td>60.00</td>\n    </tr>\n    <tr>\n      <th>366</th>\n      <td>1</td>\n      <td>60.00</td>\n    </tr>\n    <tr>\n      <th>170</th>\n      <td>0</td>\n      <td>61.00</td>\n    </tr>\n    <tr>\n      <th>326</th>\n      <td>0</td>\n      <td>61.00</td>\n    </tr>\n    <tr>\n      <th>625</th>\n      <td>0</td>\n      <td>61.00</td>\n    </tr>\n    <tr>\n      <th>252</th>\n      <td>0</td>\n      <td>62.00</td>\n    </tr>\n    <tr>\n      <th>829</th>\n      <td>1</td>\n      <td>62.00</td>\n    </tr>\n    <tr>\n      <th>570</th>\n      <td>1</td>\n      <td>62.00</td>\n    </tr>\n    <tr>\n      <th>555</th>\n      <td>0</td>\n      <td>62.00</td>\n    </tr>\n    <tr>\n      <th>275</th>\n      <td>1</td>\n      <td>63.00</td>\n    </tr>\n    <tr>\n      <th>483</th>\n      <td>1</td>\n      <td>63.00</td>\n    </tr>\n    <tr>\n      <th>438</th>\n      <td>0</td>\n      <td>64.00</td>\n    </tr>\n    <tr>\n      <th>545</th>\n      <td>0</td>\n      <td>64.00</td>\n    </tr>\n    <tr>\n      <th>54</th>\n      <td>0</td>\n      <td>65.00</td>\n    </tr>\n    <tr>\n      <th>280</th>\n      <td>0</td>\n      <td>65.00</td>\n    </tr>\n    <tr>\n      <th>456</th>\n      <td>0</td>\n      <td>65.00</td>\n    </tr>\n    <tr>\n      <th>33</th>\n      <td>0</td>\n      <td>66.00</td>\n    </tr>\n    <tr>\n      <th>672</th>\n      <td>0</td>\n      <td>70.00</td>\n    </tr>\n    <tr>\n      <th>745</th>\n      <td>0</td>\n      <td>70.00</td>\n    </tr>\n    <tr>\n      <th>116</th>\n      <td>0</td>\n      <td>70.50</td>\n    </tr>\n    <tr>\n      <th>493</th>\n      <td>0</td>\n      <td>71.00</td>\n    </tr>\n    <tr>\n      <th>96</th>\n      <td>0</td>\n      <td>71.00</td>\n    </tr>\n    <tr>\n      <th>851</th>\n      <td>0</td>\n      <td>74.00</td>\n    </tr>\n    <tr>\n      <th>630</th>\n      <td>1</td>\n      <td>80.00</td>\n    </tr>\n  </tbody>\n</table>\n<p>714 rows × 2 columns</p>\n</div>"
          },
          "metadata": {}
        }
      ]
    },
    {
      "metadata": {
        "trusted": true,
        "_uuid": "9336a5a3558221275747469351b387138f868a38"
      },
      "cell_type": "code",
      "source": "sorted4['Cumulative Survivals'] = np.cumsum(sorted4.Survived) / len(sorted4) * 100",
      "execution_count": 46,
      "outputs": []
    },
    {
      "metadata": {
        "trusted": true,
        "_uuid": "5804fc55e89ed5976e3ad34e46a20f24c948b355"
      },
      "cell_type": "code",
      "source": "sorted4",
      "execution_count": 47,
      "outputs": [
        {
          "output_type": "execute_result",
          "execution_count": 47,
          "data": {
            "text/plain": "     Survived    Age  Cumulative Survivals\n803         1   0.42              0.140056\n755         1   0.67              0.280112\n644         1   0.75              0.420168\n469         1   0.75              0.560224\n78          1   0.83              0.700280\n831         1   0.83              0.840336\n305         1   0.92              0.980392\n827         1   1.00              1.120448\n381         1   1.00              1.260504\n164         0   1.00              1.260504\n183         1   1.00              1.400560\n386         0   1.00              1.400560\n172         1   1.00              1.540616\n788         1   1.00              1.680672\n642         0   2.00              1.680672\n7           0   2.00              1.680672\n530         1   2.00              1.820728\n297         0   2.00              1.820728\n824         0   2.00              1.820728\n205         0   2.00              1.820728\n119         0   2.00              1.820728\n340         1   2.00              1.960784\n479         1   2.00              2.100840\n16          0   2.00              2.100840\n348         1   3.00              2.240896\n407         1   3.00              2.380952\n374         0   3.00              2.380952\n261         1   3.00              2.521008\n43          1   3.00              2.661064\n193         1   3.00              2.801120\n..        ...    ...                   ...\n487         0  58.00             39.495798\n268         1  58.00             39.635854\n232         0  59.00             39.635854\n94          0  59.00             39.635854\n694         0  60.00             39.635854\n684         0  60.00             39.635854\n587         1  60.00             39.775910\n366         1  60.00             39.915966\n170         0  61.00             39.915966\n326         0  61.00             39.915966\n625         0  61.00             39.915966\n252         0  62.00             39.915966\n829         1  62.00             40.056022\n570         1  62.00             40.196078\n555         0  62.00             40.196078\n275         1  63.00             40.336134\n483         1  63.00             40.476190\n438         0  64.00             40.476190\n545         0  64.00             40.476190\n54          0  65.00             40.476190\n280         0  65.00             40.476190\n456         0  65.00             40.476190\n33          0  66.00             40.476190\n672         0  70.00             40.476190\n745         0  70.00             40.476190\n116         0  70.50             40.476190\n493         0  71.00             40.476190\n96          0  71.00             40.476190\n851         0  74.00             40.476190\n630         1  80.00             40.616246\n\n[714 rows x 3 columns]",
            "text/html": "<div>\n<style scoped>\n    .dataframe tbody tr th:only-of-type {\n        vertical-align: middle;\n    }\n\n    .dataframe tbody tr th {\n        vertical-align: top;\n    }\n\n    .dataframe thead th {\n        text-align: right;\n    }\n</style>\n<table border=\"1\" class=\"dataframe\">\n  <thead>\n    <tr style=\"text-align: right;\">\n      <th></th>\n      <th>Survived</th>\n      <th>Age</th>\n      <th>Cumulative Survivals</th>\n    </tr>\n  </thead>\n  <tbody>\n    <tr>\n      <th>803</th>\n      <td>1</td>\n      <td>0.42</td>\n      <td>0.140056</td>\n    </tr>\n    <tr>\n      <th>755</th>\n      <td>1</td>\n      <td>0.67</td>\n      <td>0.280112</td>\n    </tr>\n    <tr>\n      <th>644</th>\n      <td>1</td>\n      <td>0.75</td>\n      <td>0.420168</td>\n    </tr>\n    <tr>\n      <th>469</th>\n      <td>1</td>\n      <td>0.75</td>\n      <td>0.560224</td>\n    </tr>\n    <tr>\n      <th>78</th>\n      <td>1</td>\n      <td>0.83</td>\n      <td>0.700280</td>\n    </tr>\n    <tr>\n      <th>831</th>\n      <td>1</td>\n      <td>0.83</td>\n      <td>0.840336</td>\n    </tr>\n    <tr>\n      <th>305</th>\n      <td>1</td>\n      <td>0.92</td>\n      <td>0.980392</td>\n    </tr>\n    <tr>\n      <th>827</th>\n      <td>1</td>\n      <td>1.00</td>\n      <td>1.120448</td>\n    </tr>\n    <tr>\n      <th>381</th>\n      <td>1</td>\n      <td>1.00</td>\n      <td>1.260504</td>\n    </tr>\n    <tr>\n      <th>164</th>\n      <td>0</td>\n      <td>1.00</td>\n      <td>1.260504</td>\n    </tr>\n    <tr>\n      <th>183</th>\n      <td>1</td>\n      <td>1.00</td>\n      <td>1.400560</td>\n    </tr>\n    <tr>\n      <th>386</th>\n      <td>0</td>\n      <td>1.00</td>\n      <td>1.400560</td>\n    </tr>\n    <tr>\n      <th>172</th>\n      <td>1</td>\n      <td>1.00</td>\n      <td>1.540616</td>\n    </tr>\n    <tr>\n      <th>788</th>\n      <td>1</td>\n      <td>1.00</td>\n      <td>1.680672</td>\n    </tr>\n    <tr>\n      <th>642</th>\n      <td>0</td>\n      <td>2.00</td>\n      <td>1.680672</td>\n    </tr>\n    <tr>\n      <th>7</th>\n      <td>0</td>\n      <td>2.00</td>\n      <td>1.680672</td>\n    </tr>\n    <tr>\n      <th>530</th>\n      <td>1</td>\n      <td>2.00</td>\n      <td>1.820728</td>\n    </tr>\n    <tr>\n      <th>297</th>\n      <td>0</td>\n      <td>2.00</td>\n      <td>1.820728</td>\n    </tr>\n    <tr>\n      <th>824</th>\n      <td>0</td>\n      <td>2.00</td>\n      <td>1.820728</td>\n    </tr>\n    <tr>\n      <th>205</th>\n      <td>0</td>\n      <td>2.00</td>\n      <td>1.820728</td>\n    </tr>\n    <tr>\n      <th>119</th>\n      <td>0</td>\n      <td>2.00</td>\n      <td>1.820728</td>\n    </tr>\n    <tr>\n      <th>340</th>\n      <td>1</td>\n      <td>2.00</td>\n      <td>1.960784</td>\n    </tr>\n    <tr>\n      <th>479</th>\n      <td>1</td>\n      <td>2.00</td>\n      <td>2.100840</td>\n    </tr>\n    <tr>\n      <th>16</th>\n      <td>0</td>\n      <td>2.00</td>\n      <td>2.100840</td>\n    </tr>\n    <tr>\n      <th>348</th>\n      <td>1</td>\n      <td>3.00</td>\n      <td>2.240896</td>\n    </tr>\n    <tr>\n      <th>407</th>\n      <td>1</td>\n      <td>3.00</td>\n      <td>2.380952</td>\n    </tr>\n    <tr>\n      <th>374</th>\n      <td>0</td>\n      <td>3.00</td>\n      <td>2.380952</td>\n    </tr>\n    <tr>\n      <th>261</th>\n      <td>1</td>\n      <td>3.00</td>\n      <td>2.521008</td>\n    </tr>\n    <tr>\n      <th>43</th>\n      <td>1</td>\n      <td>3.00</td>\n      <td>2.661064</td>\n    </tr>\n    <tr>\n      <th>193</th>\n      <td>1</td>\n      <td>3.00</td>\n      <td>2.801120</td>\n    </tr>\n    <tr>\n      <th>...</th>\n      <td>...</td>\n      <td>...</td>\n      <td>...</td>\n    </tr>\n    <tr>\n      <th>487</th>\n      <td>0</td>\n      <td>58.00</td>\n      <td>39.495798</td>\n    </tr>\n    <tr>\n      <th>268</th>\n      <td>1</td>\n      <td>58.00</td>\n      <td>39.635854</td>\n    </tr>\n    <tr>\n      <th>232</th>\n      <td>0</td>\n      <td>59.00</td>\n      <td>39.635854</td>\n    </tr>\n    <tr>\n      <th>94</th>\n      <td>0</td>\n      <td>59.00</td>\n      <td>39.635854</td>\n    </tr>\n    <tr>\n      <th>694</th>\n      <td>0</td>\n      <td>60.00</td>\n      <td>39.635854</td>\n    </tr>\n    <tr>\n      <th>684</th>\n      <td>0</td>\n      <td>60.00</td>\n      <td>39.635854</td>\n    </tr>\n    <tr>\n      <th>587</th>\n      <td>1</td>\n      <td>60.00</td>\n      <td>39.775910</td>\n    </tr>\n    <tr>\n      <th>366</th>\n      <td>1</td>\n      <td>60.00</td>\n      <td>39.915966</td>\n    </tr>\n    <tr>\n      <th>170</th>\n      <td>0</td>\n      <td>61.00</td>\n      <td>39.915966</td>\n    </tr>\n    <tr>\n      <th>326</th>\n      <td>0</td>\n      <td>61.00</td>\n      <td>39.915966</td>\n    </tr>\n    <tr>\n      <th>625</th>\n      <td>0</td>\n      <td>61.00</td>\n      <td>39.915966</td>\n    </tr>\n    <tr>\n      <th>252</th>\n      <td>0</td>\n      <td>62.00</td>\n      <td>39.915966</td>\n    </tr>\n    <tr>\n      <th>829</th>\n      <td>1</td>\n      <td>62.00</td>\n      <td>40.056022</td>\n    </tr>\n    <tr>\n      <th>570</th>\n      <td>1</td>\n      <td>62.00</td>\n      <td>40.196078</td>\n    </tr>\n    <tr>\n      <th>555</th>\n      <td>0</td>\n      <td>62.00</td>\n      <td>40.196078</td>\n    </tr>\n    <tr>\n      <th>275</th>\n      <td>1</td>\n      <td>63.00</td>\n      <td>40.336134</td>\n    </tr>\n    <tr>\n      <th>483</th>\n      <td>1</td>\n      <td>63.00</td>\n      <td>40.476190</td>\n    </tr>\n    <tr>\n      <th>438</th>\n      <td>0</td>\n      <td>64.00</td>\n      <td>40.476190</td>\n    </tr>\n    <tr>\n      <th>545</th>\n      <td>0</td>\n      <td>64.00</td>\n      <td>40.476190</td>\n    </tr>\n    <tr>\n      <th>54</th>\n      <td>0</td>\n      <td>65.00</td>\n      <td>40.476190</td>\n    </tr>\n    <tr>\n      <th>280</th>\n      <td>0</td>\n      <td>65.00</td>\n      <td>40.476190</td>\n    </tr>\n    <tr>\n      <th>456</th>\n      <td>0</td>\n      <td>65.00</td>\n      <td>40.476190</td>\n    </tr>\n    <tr>\n      <th>33</th>\n      <td>0</td>\n      <td>66.00</td>\n      <td>40.476190</td>\n    </tr>\n    <tr>\n      <th>672</th>\n      <td>0</td>\n      <td>70.00</td>\n      <td>40.476190</td>\n    </tr>\n    <tr>\n      <th>745</th>\n      <td>0</td>\n      <td>70.00</td>\n      <td>40.476190</td>\n    </tr>\n    <tr>\n      <th>116</th>\n      <td>0</td>\n      <td>70.50</td>\n      <td>40.476190</td>\n    </tr>\n    <tr>\n      <th>493</th>\n      <td>0</td>\n      <td>71.00</td>\n      <td>40.476190</td>\n    </tr>\n    <tr>\n      <th>96</th>\n      <td>0</td>\n      <td>71.00</td>\n      <td>40.476190</td>\n    </tr>\n    <tr>\n      <th>851</th>\n      <td>0</td>\n      <td>74.00</td>\n      <td>40.476190</td>\n    </tr>\n    <tr>\n      <th>630</th>\n      <td>1</td>\n      <td>80.00</td>\n      <td>40.616246</td>\n    </tr>\n  </tbody>\n</table>\n<p>714 rows × 3 columns</p>\n</div>"
          },
          "metadata": {}
        }
      ]
    },
    {
      "metadata": {
        "trusted": true,
        "_uuid": "fa745fa76f676260ec4dfbc5263fd1231e9e97e7"
      },
      "cell_type": "code",
      "source": "import matplotlib.pyplot as plt",
      "execution_count": 48,
      "outputs": []
    },
    {
      "metadata": {
        "trusted": true,
        "_uuid": "54c3ef21edce22dfb749c5a9d5f8f351c3a85d71"
      },
      "cell_type": "code",
      "source": "plt.plot(list(sorted4['Age']), list(sorted4['Cumulative Survivals']),'r-')\nplt.show()",
      "execution_count": 49,
      "outputs": [
        {
          "output_type": "display_data",
          "data": {
            "text/plain": "<Figure size 432x288 with 1 Axes>",
            "image/png": "[encoded data removed]"
          },
          "metadata": {}
        }
      ]
    },
    {
      "metadata": {
        "_uuid": "0a0207249fb7b54d44a70fa7561806c5fb488a56"
      },
      "cell_type": "markdown",
      "source": "### Convert age to bins"
    },
    {
      "metadata": {
        "trusted": true,
        "_uuid": "240d11fced9ef822e53f7ee15465846b66992d4f"
      },
      "cell_type": "code",
      "source": "sorted4['Age Group'] = pd.cut(sorted4['Age'],8)",
      "execution_count": 50,
      "outputs": []
    },
    {
      "metadata": {
        "trusted": true,
        "_uuid": "fb4e0089587fd694b8c10cd30fa483795c1371c8"
      },
      "cell_type": "code",
      "source": "sorted4",
      "execution_count": 51,
      "outputs": [
        {
          "output_type": "execute_result",
          "execution_count": 51,
          "data": {
            "text/plain": "     Survived    Age  Cumulative Survivals         Age Group\n803         1   0.42              0.140056    (0.34, 10.368]\n755         1   0.67              0.280112    (0.34, 10.368]\n644         1   0.75              0.420168    (0.34, 10.368]\n469         1   0.75              0.560224    (0.34, 10.368]\n78          1   0.83              0.700280    (0.34, 10.368]\n831         1   0.83              0.840336    (0.34, 10.368]\n305         1   0.92              0.980392    (0.34, 10.368]\n827         1   1.00              1.120448    (0.34, 10.368]\n381         1   1.00              1.260504    (0.34, 10.368]\n164         0   1.00              1.260504    (0.34, 10.368]\n183         1   1.00              1.400560    (0.34, 10.368]\n386         0   1.00              1.400560    (0.34, 10.368]\n172         1   1.00              1.540616    (0.34, 10.368]\n788         1   1.00              1.680672    (0.34, 10.368]\n642         0   2.00              1.680672    (0.34, 10.368]\n7           0   2.00              1.680672    (0.34, 10.368]\n530         1   2.00              1.820728    (0.34, 10.368]\n297         0   2.00              1.820728    (0.34, 10.368]\n824         0   2.00              1.820728    (0.34, 10.368]\n205         0   2.00              1.820728    (0.34, 10.368]\n119         0   2.00              1.820728    (0.34, 10.368]\n340         1   2.00              1.960784    (0.34, 10.368]\n479         1   2.00              2.100840    (0.34, 10.368]\n16          0   2.00              2.100840    (0.34, 10.368]\n348         1   3.00              2.240896    (0.34, 10.368]\n407         1   3.00              2.380952    (0.34, 10.368]\n374         0   3.00              2.380952    (0.34, 10.368]\n261         1   3.00              2.521008    (0.34, 10.368]\n43          1   3.00              2.661064    (0.34, 10.368]\n193         1   3.00              2.801120    (0.34, 10.368]\n..        ...    ...                   ...               ...\n487         0  58.00             39.495798  (50.158, 60.105]\n268         1  58.00             39.635854  (50.158, 60.105]\n232         0  59.00             39.635854  (50.158, 60.105]\n94          0  59.00             39.635854  (50.158, 60.105]\n694         0  60.00             39.635854  (50.158, 60.105]\n684         0  60.00             39.635854  (50.158, 60.105]\n587         1  60.00             39.775910  (50.158, 60.105]\n366         1  60.00             39.915966  (50.158, 60.105]\n170         0  61.00             39.915966  (60.105, 70.052]\n326         0  61.00             39.915966  (60.105, 70.052]\n625         0  61.00             39.915966  (60.105, 70.052]\n252         0  62.00             39.915966  (60.105, 70.052]\n829         1  62.00             40.056022  (60.105, 70.052]\n570         1  62.00             40.196078  (60.105, 70.052]\n555         0  62.00             40.196078  (60.105, 70.052]\n275         1  63.00             40.336134  (60.105, 70.052]\n483         1  63.00             40.476190  (60.105, 70.052]\n438         0  64.00             40.476190  (60.105, 70.052]\n545         0  64.00             40.476190  (60.105, 70.052]\n54          0  65.00             40.476190  (60.105, 70.052]\n280         0  65.00             40.476190  (60.105, 70.052]\n456         0  65.00             40.476190  (60.105, 70.052]\n33          0  66.00             40.476190  (60.105, 70.052]\n672         0  70.00             40.476190  (60.105, 70.052]\n745         0  70.00             40.476190  (60.105, 70.052]\n116         0  70.50             40.476190    (70.052, 80.0]\n493         0  71.00             40.476190    (70.052, 80.0]\n96          0  71.00             40.476190    (70.052, 80.0]\n851         0  74.00             40.476190    (70.052, 80.0]\n630         1  80.00             40.616246    (70.052, 80.0]\n\n[714 rows x 4 columns]",
            "text/html": "<div>\n<style scoped>\n    .dataframe tbody tr th:only-of-type {\n        vertical-align: middle;\n    }\n\n    .dataframe tbody tr th {\n        vertical-align: top;\n    }\n\n    .dataframe thead th {\n        text-align: right;\n    }\n</style>\n<table border=\"1\" class=\"dataframe\">\n  <thead>\n    <tr style=\"text-align: right;\">\n      <th></th>\n      <th>Survived</th>\n      <th>Age</th>\n      <th>Cumulative Survivals</th>\n      <th>Age Group</th>\n    </tr>\n  </thead>\n  <tbody>\n    <tr>\n      <th>803</th>\n      <td>1</td>\n      <td>0.42</td>\n      <td>0.140056</td>\n      <td>(0.34, 10.368]</td>\n    </tr>\n    <tr>\n      <th>755</th>\n      <td>1</td>\n      <td>0.67</td>\n      <td>0.280112</td>\n      <td>(0.34, 10.368]</td>\n    </tr>\n    <tr>\n      <th>644</th>\n      <td>1</td>\n      <td>0.75</td>\n      <td>0.420168</td>\n      <td>(0.34, 10.368]</td>\n    </tr>\n    <tr>\n      <th>469</th>\n      <td>1</td>\n      <td>0.75</td>\n      <td>0.560224</td>\n      <td>(0.34, 10.368]</td>\n    </tr>\n    <tr>\n      <th>78</th>\n      <td>1</td>\n      <td>0.83</td>\n      <td>0.700280</td>\n      <td>(0.34, 10.368]</td>\n    </tr>\n    <tr>\n      <th>831</th>\n      <td>1</td>\n      <td>0.83</td>\n      <td>0.840336</td>\n      <td>(0.34, 10.368]</td>\n    </tr>\n    <tr>\n      <th>305</th>\n      <td>1</td>\n      <td>0.92</td>\n      <td>0.980392</td>\n      <td>(0.34, 10.368]</td>\n    </tr>\n    <tr>\n      <th>827</th>\n      <td>1</td>\n      <td>1.00</td>\n      <td>1.120448</td>\n      <td>(0.34, 10.368]</td>\n    </tr>\n    <tr>\n      <th>381</th>\n      <td>1</td>\n      <td>1.00</td>\n      <td>1.260504</td>\n      <td>(0.34, 10.368]</td>\n    </tr>\n    <tr>\n      <th>164</th>\n      <td>0</td>\n      <td>1.00</td>\n      <td>1.260504</td>\n      <td>(0.34, 10.368]</td>\n    </tr>\n    <tr>\n      <th>183</th>\n      <td>1</td>\n      <td>1.00</td>\n      <td>1.400560</td>\n      <td>(0.34, 10.368]</td>\n    </tr>\n    <tr>\n      <th>386</th>\n      <td>0</td>\n      <td>1.00</td>\n      <td>1.400560</td>\n      <td>(0.34, 10.368]</td>\n    </tr>\n    <tr>\n      <th>172</th>\n      <td>1</td>\n      <td>1.00</td>\n      <td>1.540616</td>\n      <td>(0.34, 10.368]</td>\n    </tr>\n    <tr>\n      <th>788</th>\n      <td>1</td>\n      <td>1.00</td>\n      <td>1.680672</td>\n      <td>(0.34, 10.368]</td>\n    </tr>\n    <tr>\n      <th>642</th>\n      <td>0</td>\n      <td>2.00</td>\n      <td>1.680672</td>\n      <td>(0.34, 10.368]</td>\n    </tr>\n    <tr>\n      <th>7</th>\n      <td>0</td>\n      <td>2.00</td>\n      <td>1.680672</td>\n      <td>(0.34, 10.368]</td>\n    </tr>\n    <tr>\n      <th>530</th>\n      <td>1</td>\n      <td>2.00</td>\n      <td>1.820728</td>\n      <td>(0.34, 10.368]</td>\n    </tr>\n    <tr>\n      <th>297</th>\n      <td>0</td>\n      <td>2.00</td>\n      <td>1.820728</td>\n      <td>(0.34, 10.368]</td>\n    </tr>\n    <tr>\n      <th>824</th>\n      <td>0</td>\n      <td>2.00</td>\n      <td>1.820728</td>\n      <td>(0.34, 10.368]</td>\n    </tr>\n    <tr>\n      <th>205</th>\n      <td>0</td>\n      <td>2.00</td>\n      <td>1.820728</td>\n      <td>(0.34, 10.368]</td>\n    </tr>\n    <tr>\n      <th>119</th>\n      <td>0</td>\n      <td>2.00</td>\n      <td>1.820728</td>\n      <td>(0.34, 10.368]</td>\n    </tr>\n    <tr>\n      <th>340</th>\n      <td>1</td>\n      <td>2.00</td>\n      <td>1.960784</td>\n      <td>(0.34, 10.368]</td>\n    </tr>\n    <tr>\n      <th>479</th>\n      <td>1</td>\n      <td>2.00</td>\n      <td>2.100840</td>\n      <td>(0.34, 10.368]</td>\n    </tr>\n    <tr>\n      <th>16</th>\n      <td>0</td>\n      <td>2.00</td>\n      <td>2.100840</td>\n      <td>(0.34, 10.368]</td>\n    </tr>\n    <tr>\n      <th>348</th>\n      <td>1</td>\n      <td>3.00</td>\n      <td>2.240896</td>\n      <td>(0.34, 10.368]</td>\n    </tr>\n    <tr>\n      <th>407</th>\n      <td>1</td>\n      <td>3.00</td>\n      <td>2.380952</td>\n      <td>(0.34, 10.368]</td>\n    </tr>\n    <tr>\n      <th>374</th>\n      <td>0</td>\n      <td>3.00</td>\n      <td>2.380952</td>\n      <td>(0.34, 10.368]</td>\n    </tr>\n    <tr>\n      <th>261</th>\n      <td>1</td>\n      <td>3.00</td>\n      <td>2.521008</td>\n      <td>(0.34, 10.368]</td>\n    </tr>\n    <tr>\n      <th>43</th>\n      <td>1</td>\n      <td>3.00</td>\n      <td>2.661064</td>\n      <td>(0.34, 10.368]</td>\n    </tr>\n    <tr>\n      <th>193</th>\n      <td>1</td>\n      <td>3.00</td>\n      <td>2.801120</td>\n      <td>(0.34, 10.368]</td>\n    </tr>\n    <tr>\n      <th>...</th>\n      <td>...</td>\n      <td>...</td>\n      <td>...</td>\n      <td>...</td>\n    </tr>\n    <tr>\n      <th>487</th>\n      <td>0</td>\n      <td>58.00</td>\n      <td>39.495798</td>\n      <td>(50.158, 60.105]</td>\n    </tr>\n    <tr>\n      <th>268</th>\n      <td>1</td>\n      <td>58.00</td>\n      <td>39.635854</td>\n      <td>(50.158, 60.105]</td>\n    </tr>\n    <tr>\n      <th>232</th>\n      <td>0</td>\n      <td>59.00</td>\n      <td>39.635854</td>\n      <td>(50.158, 60.105]</td>\n    </tr>\n    <tr>\n      <th>94</th>\n      <td>0</td>\n      <td>59.00</td>\n      <td>39.635854</td>\n      <td>(50.158, 60.105]</td>\n    </tr>\n    <tr>\n      <th>694</th>\n      <td>0</td>\n      <td>60.00</td>\n      <td>39.635854</td>\n      <td>(50.158, 60.105]</td>\n    </tr>\n    <tr>\n      <th>684</th>\n      <td>0</td>\n      <td>60.00</td>\n      <td>39.635854</td>\n      <td>(50.158, 60.105]</td>\n    </tr>\n    <tr>\n      <th>587</th>\n      <td>1</td>\n      <td>60.00</td>\n      <td>39.775910</td>\n      <td>(50.158, 60.105]</td>\n    </tr>\n    <tr>\n      <th>366</th>\n      <td>1</td>\n      <td>60.00</td>\n      <td>39.915966</td>\n      <td>(50.158, 60.105]</td>\n    </tr>\n    <tr>\n      <th>170</th>\n      <td>0</td>\n      <td>61.00</td>\n      <td>39.915966</td>\n      <td>(60.105, 70.052]</td>\n    </tr>\n    <tr>\n      <th>326</th>\n      <td>0</td>\n      <td>61.00</td>\n      <td>39.915966</td>\n      <td>(60.105, 70.052]</td>\n    </tr>\n    <tr>\n      <th>625</th>\n      <td>0</td>\n      <td>61.00</td>\n      <td>39.915966</td>\n      <td>(60.105, 70.052]</td>\n    </tr>\n    <tr>\n      <th>252</th>\n      <td>0</td>\n      <td>62.00</td>\n      <td>39.915966</td>\n      <td>(60.105, 70.052]</td>\n    </tr>\n    <tr>\n      <th>829</th>\n      <td>1</td>\n      <td>62.00</td>\n      <td>40.056022</td>\n      <td>(60.105, 70.052]</td>\n    </tr>\n    <tr>\n      <th>570</th>\n      <td>1</td>\n      <td>62.00</td>\n      <td>40.196078</td>\n      <td>(60.105, 70.052]</td>\n    </tr>\n    <tr>\n      <th>555</th>\n      <td>0</td>\n      <td>62.00</td>\n      <td>40.196078</td>\n      <td>(60.105, 70.052]</td>\n    </tr>\n    <tr>\n      <th>275</th>\n      <td>1</td>\n      <td>63.00</td>\n      <td>40.336134</td>\n      <td>(60.105, 70.052]</td>\n    </tr>\n    <tr>\n      <th>483</th>\n      <td>1</td>\n      <td>63.00</td>\n      <td>40.476190</td>\n      <td>(60.105, 70.052]</td>\n    </tr>\n    <tr>\n      <th>438</th>\n      <td>0</td>\n      <td>64.00</td>\n      <td>40.476190</td>\n      <td>(60.105, 70.052]</td>\n    </tr>\n    <tr>\n      <th>545</th>\n      <td>0</td>\n      <td>64.00</td>\n      <td>40.476190</td>\n      <td>(60.105, 70.052]</td>\n    </tr>\n    <tr>\n      <th>54</th>\n      <td>0</td>\n      <td>65.00</td>\n      <td>40.476190</td>\n      <td>(60.105, 70.052]</td>\n    </tr>\n    <tr>\n      <th>280</th>\n      <td>0</td>\n      <td>65.00</td>\n      <td>40.476190</td>\n      <td>(60.105, 70.052]</td>\n    </tr>\n    <tr>\n      <th>456</th>\n      <td>0</td>\n      <td>65.00</td>\n      <td>40.476190</td>\n      <td>(60.105, 70.052]</td>\n    </tr>\n    <tr>\n      <th>33</th>\n      <td>0</td>\n      <td>66.00</td>\n      <td>40.476190</td>\n      <td>(60.105, 70.052]</td>\n    </tr>\n    <tr>\n      <th>672</th>\n      <td>0</td>\n      <td>70.00</td>\n      <td>40.476190</td>\n      <td>(60.105, 70.052]</td>\n    </tr>\n    <tr>\n      <th>745</th>\n      <td>0</td>\n      <td>70.00</td>\n      <td>40.476190</td>\n      <td>(60.105, 70.052]</td>\n    </tr>\n    <tr>\n      <th>116</th>\n      <td>0</td>\n      <td>70.50</td>\n      <td>40.476190</td>\n      <td>(70.052, 80.0]</td>\n    </tr>\n    <tr>\n      <th>493</th>\n      <td>0</td>\n      <td>71.00</td>\n      <td>40.476190</td>\n      <td>(70.052, 80.0]</td>\n    </tr>\n    <tr>\n      <th>96</th>\n      <td>0</td>\n      <td>71.00</td>\n      <td>40.476190</td>\n      <td>(70.052, 80.0]</td>\n    </tr>\n    <tr>\n      <th>851</th>\n      <td>0</td>\n      <td>74.00</td>\n      <td>40.476190</td>\n      <td>(70.052, 80.0]</td>\n    </tr>\n    <tr>\n      <th>630</th>\n      <td>1</td>\n      <td>80.00</td>\n      <td>40.616246</td>\n      <td>(70.052, 80.0]</td>\n    </tr>\n  </tbody>\n</table>\n<p>714 rows × 4 columns</p>\n</div>"
          },
          "metadata": {}
        }
      ]
    },
    {
      "metadata": {
        "trusted": true,
        "_uuid": "9b108c7a3fab459e8b2c24f514ea94d4ee738d0d"
      },
      "cell_type": "code",
      "source": "grouped4 = sorted4.groupby('Age Group')",
      "execution_count": 52,
      "outputs": []
    },
    {
      "metadata": {
        "trusted": true,
        "_uuid": "76428db3f56e35e68d3b17fb70fd3cc7f64061cb"
      },
      "cell_type": "code",
      "source": "grouped4.Survived.value_counts()",
      "execution_count": 53,
      "outputs": [
        {
          "output_type": "execute_result",
          "execution_count": 53,
          "data": {
            "text/plain": "Age Group         Survived\n(0.34, 10.368]    1            38\n                  0            26\n(10.368, 20.315]  0            71\n                  1            44\n(20.315, 30.263]  0           146\n                  1            84\n(30.263, 40.21]   0            86\n                  1            69\n(40.21, 50.158]   0            53\n                  1            33\n(50.158, 60.105]  0            25\n                  1            17\n(60.105, 70.052]  0            13\n                  1             4\n(70.052, 80.0]    0             4\n                  1             1\nName: Survived, dtype: int64"
          },
          "metadata": {}
        }
      ]
    },
    {
      "metadata": {
        "_uuid": "11501f12dcdf97494266b32754903175c4ee3021"
      },
      "cell_type": "markdown",
      "source": "### Look at combined effects of gender and passenger class on survival"
    },
    {
      "metadata": {
        "trusted": true,
        "_uuid": "56f69a041169a4c56c6d3f3698b0935a3d093280"
      },
      "cell_type": "code",
      "source": "sub_data5 = full_data[['Survived','Pclass', 'Sex']]",
      "execution_count": 54,
      "outputs": []
    },
    {
      "metadata": {
        "trusted": true,
        "_uuid": "8cf2dfd64d23443b09dd22e06339c1c403c8ab12"
      },
      "cell_type": "code",
      "source": "sub_data5",
      "execution_count": 55,
      "outputs": [
        {
          "output_type": "execute_result",
          "execution_count": 55,
          "data": {
            "text/plain": "     Survived  Pclass     Sex\n0           0       3    male\n1           1       1  female\n2           1       3  female\n3           1       1  female\n4           0       3    male\n5           0       3    male\n6           0       1    male\n7           0       3    male\n8           1       3  female\n9           1       2  female\n10          1       3  female\n11          1       1  female\n12          0       3    male\n13          0       3    male\n14          0       3  female\n15          1       2  female\n16          0       3    male\n17          1       2    male\n18          0       3  female\n19          1       3  female\n20          0       2    male\n21          1       2    male\n22          1       3  female\n23          1       1    male\n24          0       3  female\n25          1       3  female\n26          0       3    male\n27          0       1    male\n28          1       3  female\n29          0       3    male\n..        ...     ...     ...\n861         0       2    male\n862         1       1  female\n863         0       3  female\n864         0       2    male\n865         1       2  female\n866         1       2  female\n867         0       1    male\n868         0       3    male\n869         1       3    male\n870         0       3    male\n871         1       1  female\n872         0       1    male\n873         0       3    male\n874         1       2  female\n875         1       3  female\n876         0       3    male\n877         0       3    male\n878         0       3    male\n879         1       1  female\n880         1       2  female\n881         0       3    male\n882         0       3  female\n883         0       2    male\n884         0       3    male\n885         0       3  female\n886         0       2    male\n887         1       1  female\n888         0       3  female\n889         1       1    male\n890         0       3    male\n\n[891 rows x 3 columns]",
            "text/html": "<div>\n<style scoped>\n    .dataframe tbody tr th:only-of-type {\n        vertical-align: middle;\n    }\n\n    .dataframe tbody tr th {\n        vertical-align: top;\n    }\n\n    .dataframe thead th {\n        text-align: right;\n    }\n</style>\n<table border=\"1\" class=\"dataframe\">\n  <thead>\n    <tr style=\"text-align: right;\">\n      <th></th>\n      <th>Survived</th>\n      <th>Pclass</th>\n      <th>Sex</th>\n    </tr>\n  </thead>\n  <tbody>\n    <tr>\n      <th>0</th>\n      <td>0</td>\n      <td>3</td>\n      <td>male</td>\n    </tr>\n    <tr>\n      <th>1</th>\n      <td>1</td>\n      <td>1</td>\n      <td>female</td>\n    </tr>\n    <tr>\n      <th>2</th>\n      <td>1</td>\n      <td>3</td>\n      <td>female</td>\n    </tr>\n    <tr>\n      <th>3</th>\n      <td>1</td>\n      <td>1</td>\n      <td>female</td>\n    </tr>\n    <tr>\n      <th>4</th>\n      <td>0</td>\n      <td>3</td>\n      <td>male</td>\n    </tr>\n    <tr>\n      <th>5</th>\n      <td>0</td>\n      <td>3</td>\n      <td>male</td>\n    </tr>\n    <tr>\n      <th>6</th>\n      <td>0</td>\n      <td>1</td>\n      <td>male</td>\n    </tr>\n    <tr>\n      <th>7</th>\n      <td>0</td>\n      <td>3</td>\n      <td>male</td>\n    </tr>\n    <tr>\n      <th>8</th>\n      <td>1</td>\n      <td>3</td>\n      <td>female</td>\n    </tr>\n    <tr>\n      <th>9</th>\n      <td>1</td>\n      <td>2</td>\n      <td>female</td>\n    </tr>\n    <tr>\n      <th>10</th>\n      <td>1</td>\n      <td>3</td>\n      <td>female</td>\n    </tr>\n    <tr>\n      <th>11</th>\n      <td>1</td>\n      <td>1</td>\n      <td>female</td>\n    </tr>\n    <tr>\n      <th>12</th>\n      <td>0</td>\n      <td>3</td>\n      <td>male</td>\n    </tr>\n    <tr>\n      <th>13</th>\n      <td>0</td>\n      <td>3</td>\n      <td>male</td>\n    </tr>\n    <tr>\n      <th>14</th>\n      <td>0</td>\n      <td>3</td>\n      <td>female</td>\n    </tr>\n    <tr>\n      <th>15</th>\n      <td>1</td>\n      <td>2</td>\n      <td>female</td>\n    </tr>\n    <tr>\n      <th>16</th>\n      <td>0</td>\n      <td>3</td>\n      <td>male</td>\n    </tr>\n    <tr>\n      <th>17</th>\n      <td>1</td>\n      <td>2</td>\n      <td>male</td>\n    </tr>\n    <tr>\n      <th>18</th>\n      <td>0</td>\n      <td>3</td>\n      <td>female</td>\n    </tr>\n    <tr>\n      <th>19</th>\n      <td>1</td>\n      <td>3</td>\n      <td>female</td>\n    </tr>\n    <tr>\n      <th>20</th>\n      <td>0</td>\n      <td>2</td>\n      <td>male</td>\n    </tr>\n    <tr>\n      <th>21</th>\n      <td>1</td>\n      <td>2</td>\n      <td>male</td>\n    </tr>\n    <tr>\n      <th>22</th>\n      <td>1</td>\n      <td>3</td>\n      <td>female</td>\n    </tr>\n    <tr>\n      <th>23</th>\n      <td>1</td>\n      <td>1</td>\n      <td>male</td>\n    </tr>\n    <tr>\n      <th>24</th>\n      <td>0</td>\n      <td>3</td>\n      <td>female</td>\n    </tr>\n    <tr>\n      <th>25</th>\n      <td>1</td>\n      <td>3</td>\n      <td>female</td>\n    </tr>\n    <tr>\n      <th>26</th>\n      <td>0</td>\n      <td>3</td>\n      <td>male</td>\n    </tr>\n    <tr>\n      <th>27</th>\n      <td>0</td>\n      <td>1</td>\n      <td>male</td>\n    </tr>\n    <tr>\n      <th>28</th>\n      <td>1</td>\n      <td>3</td>\n      <td>female</td>\n    </tr>\n    <tr>\n      <th>29</th>\n      <td>0</td>\n      <td>3</td>\n      <td>male</td>\n    </tr>\n    <tr>\n      <th>...</th>\n      <td>...</td>\n      <td>...</td>\n      <td>...</td>\n    </tr>\n    <tr>\n      <th>861</th>\n      <td>0</td>\n      <td>2</td>\n      <td>male</td>\n    </tr>\n    <tr>\n      <th>862</th>\n      <td>1</td>\n      <td>1</td>\n      <td>female</td>\n    </tr>\n    <tr>\n      <th>863</th>\n      <td>0</td>\n      <td>3</td>\n      <td>female</td>\n    </tr>\n    <tr>\n      <th>864</th>\n      <td>0</td>\n      <td>2</td>\n      <td>male</td>\n    </tr>\n    <tr>\n      <th>865</th>\n      <td>1</td>\n      <td>2</td>\n      <td>female</td>\n    </tr>\n    <tr>\n      <th>866</th>\n      <td>1</td>\n      <td>2</td>\n      <td>female</td>\n    </tr>\n    <tr>\n      <th>867</th>\n      <td>0</td>\n      <td>1</td>\n      <td>male</td>\n    </tr>\n    <tr>\n      <th>868</th>\n      <td>0</td>\n      <td>3</td>\n      <td>male</td>\n    </tr>\n    <tr>\n      <th>869</th>\n      <td>1</td>\n      <td>3</td>\n      <td>male</td>\n    </tr>\n    <tr>\n      <th>870</th>\n      <td>0</td>\n      <td>3</td>\n      <td>male</td>\n    </tr>\n    <tr>\n      <th>871</th>\n      <td>1</td>\n      <td>1</td>\n      <td>female</td>\n    </tr>\n    <tr>\n      <th>872</th>\n      <td>0</td>\n      <td>1</td>\n      <td>male</td>\n    </tr>\n    <tr>\n      <th>873</th>\n      <td>0</td>\n      <td>3</td>\n      <td>male</td>\n    </tr>\n    <tr>\n      <th>874</th>\n      <td>1</td>\n      <td>2</td>\n      <td>female</td>\n    </tr>\n    <tr>\n      <th>875</th>\n      <td>1</td>\n      <td>3</td>\n      <td>female</td>\n    </tr>\n    <tr>\n      <th>876</th>\n      <td>0</td>\n      <td>3</td>\n      <td>male</td>\n    </tr>\n    <tr>\n      <th>877</th>\n      <td>0</td>\n      <td>3</td>\n      <td>male</td>\n    </tr>\n    <tr>\n      <th>878</th>\n      <td>0</td>\n      <td>3</td>\n      <td>male</td>\n    </tr>\n    <tr>\n      <th>879</th>\n      <td>1</td>\n      <td>1</td>\n      <td>female</td>\n    </tr>\n    <tr>\n      <th>880</th>\n      <td>1</td>\n      <td>2</td>\n      <td>female</td>\n    </tr>\n    <tr>\n      <th>881</th>\n      <td>0</td>\n      <td>3</td>\n      <td>male</td>\n    </tr>\n    <tr>\n      <th>882</th>\n      <td>0</td>\n      <td>3</td>\n      <td>female</td>\n    </tr>\n    <tr>\n      <th>883</th>\n      <td>0</td>\n      <td>2</td>\n      <td>male</td>\n    </tr>\n    <tr>\n      <th>884</th>\n      <td>0</td>\n      <td>3</td>\n      <td>male</td>\n    </tr>\n    <tr>\n      <th>885</th>\n      <td>0</td>\n      <td>3</td>\n      <td>female</td>\n    </tr>\n    <tr>\n      <th>886</th>\n      <td>0</td>\n      <td>2</td>\n      <td>male</td>\n    </tr>\n    <tr>\n      <th>887</th>\n      <td>1</td>\n      <td>1</td>\n      <td>female</td>\n    </tr>\n    <tr>\n      <th>888</th>\n      <td>0</td>\n      <td>3</td>\n      <td>female</td>\n    </tr>\n    <tr>\n      <th>889</th>\n      <td>1</td>\n      <td>1</td>\n      <td>male</td>\n    </tr>\n    <tr>\n      <th>890</th>\n      <td>0</td>\n      <td>3</td>\n      <td>male</td>\n    </tr>\n  </tbody>\n</table>\n<p>891 rows × 3 columns</p>\n</div>"
          },
          "metadata": {}
        }
      ]
    },
    {
      "metadata": {
        "trusted": true,
        "_uuid": "b92c58265f1f733305f90b310a517916ea64571b"
      },
      "cell_type": "code",
      "source": "grouped5 = sub_data5.groupby(['Pclass', 'Sex'])",
      "execution_count": 56,
      "outputs": []
    },
    {
      "metadata": {
        "trusted": true,
        "_uuid": "d8174abb9b6754cfd5bf0e948cc7e8d5f5d54b76"
      },
      "cell_type": "code",
      "source": "grouped5.Survived.value_counts()",
      "execution_count": 57,
      "outputs": [
        {
          "output_type": "execute_result",
          "execution_count": 57,
          "data": {
            "text/plain": "Pclass  Sex     Survived\n1       female  1            91\n                0             3\n        male    0            77\n                1            45\n2       female  1            70\n                0             6\n        male    0            91\n                1            17\n3       female  0            72\n                1            72\n        male    0           300\n                1            47\nName: Survived, dtype: int64"
          },
          "metadata": {}
        }
      ]
    },
    {
      "metadata": {
        "trusted": true,
        "_uuid": "6a69c18e24fbc552afaddfaca2e97ef7698977cf"
      },
      "cell_type": "code",
      "source": "grouped5.Survived.agg(np.mean)",
      "execution_count": 58,
      "outputs": [
        {
          "output_type": "execute_result",
          "execution_count": 58,
          "data": {
            "text/plain": "Pclass  Sex   \n1       female    0.968085\n        male      0.368852\n2       female    0.921053\n        male      0.157407\n3       female    0.500000\n        male      0.135447\nName: Survived, dtype: float64"
          },
          "metadata": {}
        }
      ]
    },
    {
      "metadata": {
        "_uuid": "66fdc630f7cdc037358dc87cada9f3653694b5f7"
      },
      "cell_type": "markdown",
      "source": "More on grouping and aggregation:\nhttps://pandas.pydata.org/pandas-docs/stable/groupby.html"
    },
    {
      "metadata": {
        "_uuid": "b21f24c401650c57ad548dd9e37e5650857ae12f"
      },
      "cell_type": "markdown",
      "source": "# PROJECT CODE\n\n---"
    },
    {
      "metadata": {
        "_uuid": "a074eb593ae32bcd13644343d1dd3f17a3155047"
      },
      "cell_type": "markdown",
      "source": "# Machine Learning Engineer Nanodegree\n## Introduction and Foundations\n## Project: Titanic Survival Exploration\n\nIn 1912, the ship RMS Titanic struck an iceberg on its maiden voyage and sank, resulting in the deaths of most of its passengers and crew. In this introductory project, we will explore a subset of the RMS Titanic passenger manifest to determine which features best predict whether someone survived or did not survive. To complete this project, you will need to implement several conditional predictions and answer the questions below. Your project submission will be evaluated based on the completion of the code and your responses to the questions.\n> **Tip:** Quoted sections like this will provide helpful instructions on how to navigate and use an iPython notebook. "
    },
    {
      "metadata": {
        "_uuid": "245d7a91f784f33ff6c25a2933838e3509ff947e"
      },
      "cell_type": "markdown",
      "source": "# Getting Started\nTo begin working with the RMS Titanic passenger data, we'll first need to `import` the functionality we need, and load our data into a `pandas` DataFrame.  \nRun the code cell below to load our data and display the first few entries (passengers) for examination using the `.head()` function.\n> **Tip:** You can run a code cell by clicking on the cell and using the keyboard shortcut **Shift + Enter** or **Shift + Return**. Alternatively, a code cell can be executed using the **Play** button in the hotbar after selecting it. Markdown cells (text cells like this one) can be edited by double-clicking, and saved using these same shortcuts. [Markdown](http://daringfireball.net/projects/markdown/syntax) allows you to write easy-to-read plain text that can be converted to HTML."
    },
    {
      "metadata": {
        "_uuid": "53eac92dcfadb825e56327ab5092327142523fd0"
      },
      "cell_type": "markdown",
      "source": "From a sample of the RMS Titanic data, we can see the various features present for each passenger on the ship:\n- **Survived**: Outcome of survival (0 = No; 1 = Yes)\n- **Pclass**: Socio-economic class (1 = Upper class; 2 = Middle class; 3 = Lower class)\n- **Name**: Name of passenger\n- **Sex**: Sex of the passenger\n- **Age**: Age of the passenger (Some entries contain `NaN`)\n- **SibSp**: Number of siblings and spouses of the passenger aboard\n- **Parch**: Number of parents and children of the passenger aboard\n- **Ticket**: Ticket number of the passenger\n- **Fare**: Fare paid by the passenger\n- **Cabin** Cabin number of the passenger (Some entries contain `NaN`)\n- **Embarked**: Port of embarkation of the passenger (C = Cherbourg; Q = Queenstown; S = Southampton)\n\nSince we're interested in the outcome of survival for each passenger or crew member, we can remove the **Survived** feature from this dataset and store it as its own separate variable `outcomes`. We will use these outcomes as our prediction targets.  \nRun the code cell below to remove **Survived** as a feature of the dataset and store it in `outcomes`."
    },
    {
      "metadata": {
        "trusted": true,
        "_uuid": "bbca0d59f8c009f1210d0b5e49a3a451c7559849"
      },
      "cell_type": "code",
      "source": "# Store the 'Survived' feature in a new variable and remove it from the dataset\noutcomes = full_data['Survived']\ndata = full_data.drop('Survived', axis = 1)\n\n# Show the new dataset with 'Survived' removed\ndisplay(data.head())",
      "execution_count": 59,
      "outputs": [
        {
          "output_type": "display_data",
          "data": {
            "text/plain": "   PassengerId  Pclass   ...    Cabin Embarked\n0            1       3   ...      NaN        S\n1            2       1   ...      C85        C\n2            3       3   ...      NaN        S\n3            4       1   ...     C123        S\n4            5       3   ...      NaN        S\n\n[5 rows x 11 columns]",
            "text/html": "<div>\n<style scoped>\n    .dataframe tbody tr th:only-of-type {\n        vertical-align: middle;\n    }\n\n    .dataframe tbody tr th {\n        vertical-align: top;\n    }\n\n    .dataframe thead th {\n        text-align: right;\n    }\n</style>\n<table border=\"1\" class=\"dataframe\">\n  <thead>\n    <tr style=\"text-align: right;\">\n      <th></th>\n      <th>PassengerId</th>\n      <th>Pclass</th>\n      <th>Name</th>\n      <th>Sex</th>\n      <th>Age</th>\n      <th>SibSp</th>\n      <th>Parch</th>\n      <th>Ticket</th>\n      <th>Fare</th>\n      <th>Cabin</th>\n      <th>Embarked</th>\n    </tr>\n  </thead>\n  <tbody>\n    <tr>\n      <th>0</th>\n      <td>1</td>\n      <td>3</td>\n      <td>Braund, Mr. Owen Harris</td>\n      <td>male</td>\n      <td>22.0</td>\n      <td>1</td>\n      <td>0</td>\n      <td>A/5 21171</td>\n      <td>7.2500</td>\n      <td>NaN</td>\n      <td>S</td>\n    </tr>\n    <tr>\n      <th>1</th>\n      <td>2</td>\n      <td>1</td>\n      <td>Cumings, Mrs. John Bradley (Florence Briggs Th...</td>\n      <td>female</td>\n      <td>38.0</td>\n      <td>1</td>\n      <td>0</td>\n      <td>PC 17599</td>\n      <td>71.2833</td>\n      <td>C85</td>\n      <td>C</td>\n    </tr>\n    <tr>\n      <th>2</th>\n      <td>3</td>\n      <td>3</td>\n      <td>Heikkinen, Miss. Laina</td>\n      <td>female</td>\n      <td>26.0</td>\n      <td>0</td>\n      <td>0</td>\n      <td>STON/O2. 3101282</td>\n      <td>7.9250</td>\n      <td>NaN</td>\n      <td>S</td>\n    </tr>\n    <tr>\n      <th>3</th>\n      <td>4</td>\n      <td>1</td>\n      <td>Futrelle, Mrs. Jacques Heath (Lily May Peel)</td>\n      <td>female</td>\n      <td>35.0</td>\n      <td>1</td>\n      <td>0</td>\n      <td>113803</td>\n      <td>53.1000</td>\n      <td>C123</td>\n      <td>S</td>\n    </tr>\n    <tr>\n      <th>4</th>\n      <td>5</td>\n      <td>3</td>\n      <td>Allen, Mr. William Henry</td>\n      <td>male</td>\n      <td>35.0</td>\n      <td>0</td>\n      <td>0</td>\n      <td>373450</td>\n      <td>8.0500</td>\n      <td>NaN</td>\n      <td>S</td>\n    </tr>\n  </tbody>\n</table>\n</div>"
          },
          "metadata": {}
        }
      ]
    },
    {
      "metadata": {
        "_uuid": "a8069944fde3c4a61bc840050bc35869e396db94"
      },
      "cell_type": "markdown",
      "source": "The very same sample of the RMS Titanic data now shows the **Survived** feature removed from the DataFrame. Note that `data` (the passenger data) and `outcomes` (the outcomes of survival) are now *paired*. That means for any passenger `data.loc[i]`, they have the survival outcome `outcomes[i]`.\n\nTo measure the performance of our predictions, we need a metric to score our predictions against the true outcomes of survival. Since we are interested in how *accurate* our predictions are, we will calculate the proportion of passengers where our prediction of their survival is correct. Run the code cell below to create our `accuracy_score` function and test a prediction on the first five passengers.  \n\n**Think:** *Out of the first five passengers, if we predict that all of them survived, what would you expect the accuracy of our predictions to be?*"
    },
    {
      "metadata": {
        "trusted": true,
        "_uuid": "088ebc7de57edf71c0351da588f397f881f0f0ee"
      },
      "cell_type": "code",
      "source": "def accuracy_score(truth, pred):\n    \"\"\" Returns accuracy score for input truth and predictions. \"\"\"\n    \n    # Ensure that the number of predictions matches number of outcomes\n    if len(truth) == len(pred): \n        \n        # Calculate and return the accuracy as a percent\n        return \"Predictions have an accuracy of {:.2f}%.\".format((truth == pred).mean()*100)\n    \n    else:\n        return \"Number of predictions does not match number of outcomes!\"\n    \n# Test the 'accuracy_score' function\npredictions = pd.Series(np.ones(5, dtype = int))\nprint(accuracy_score(outcomes[:5], predictions))",
      "execution_count": 60,
      "outputs": [
        {
          "output_type": "stream",
          "text": "Predictions have an accuracy of 60.00%.\n",
          "name": "stdout"
        }
      ]
    },
    {
      "metadata": {
        "_uuid": "8c1c8723082d7816b58be9b11d30dc29d5acddf5"
      },
      "cell_type": "markdown",
      "source": "> **Tip:** If you save an iPython Notebook, the output from running code blocks will also be saved. However, the state of your workspace will be reset once a new session is started. Make sure that you run all of the code blocks from your previous session to reestablish variables and functions before picking up where you last left off.\n\n# Making Predictions\n\nIf we were asked to make a prediction about any passenger aboard the RMS Titanic whom we knew nothing about, then the best prediction we could make would be that they did not survive. This is because we can assume that a majority of the passengers (more than 50%) did not survive the ship sinking.  \nThe `predictions_0` function below will always predict that a passenger did not survive."
    },
    {
      "metadata": {
        "trusted": true,
        "_uuid": "652590f73c49598f958591aea22ea892ee9d5c06"
      },
      "cell_type": "code",
      "source": "def predictions_0(data):\n    \"\"\" Model with no features. Always predicts a passenger did not survive. \"\"\"\n\n    predictions = []\n    for _, passenger in data.iterrows():\n        \n        # Predict the survival of 'passenger'\n        predictions.append(0)\n    \n    # Return our predictions\n    return pd.Series(predictions)\n\n# Make the predictions\npredictions = predictions_0(data)",
      "execution_count": 61,
      "outputs": []
    },
    {
      "metadata": {
        "_uuid": "4fbc91bca894461adfec10a5bad7619ea04f8fd5"
      },
      "cell_type": "markdown",
      "source": "### Question 1\n\n* Using the RMS Titanic data, how accurate would a prediction be that none of the passengers survived?\n\n**Hint:** Run the code cell below to see the accuracy of this prediction."
    },
    {
      "metadata": {
        "trusted": true,
        "_uuid": "0cd369d579c7399d05b466072245475fec6c26cc"
      },
      "cell_type": "code",
      "source": "print(accuracy_score(outcomes, predictions))",
      "execution_count": 62,
      "outputs": [
        {
          "output_type": "stream",
          "text": "Predictions have an accuracy of 61.62%.\n",
          "name": "stdout"
        }
      ]
    },
    {
      "metadata": {
        "_uuid": "a5342095f7acef794334cc648c5c024620b1957b"
      },
      "cell_type": "markdown",
      "source": "**Answer:** *Replace this text with the prediction accuracy you found above.*"
    },
    {
      "metadata": {
        "_uuid": "be40515d7575ba0a08ebc5ce7155169c545645f4"
      },
      "cell_type": "markdown",
      "source": "### Vectorized implementation"
    },
    {
      "metadata": {
        "trusted": true,
        "_uuid": "d4208fed521988ae8f7b796bf1b9560a8e8486de"
      },
      "cell_type": "code",
      "source": "predictions = np.zeros(len(data))\nprint(accuracy_score(outcomes, predictions))",
      "execution_count": 63,
      "outputs": [
        {
          "output_type": "stream",
          "text": "Predictions have an accuracy of 61.62%.\n",
          "name": "stdout"
        }
      ]
    },
    {
      "metadata": {
        "_uuid": "4018ee06a16c63007867599f5bb025ff7b3e63c6"
      },
      "cell_type": "markdown",
      "source": "***\nLet's take a look at whether the feature **Sex** has any indication of survival rates among passengers using the `survival_stats` function. This function is defined in the `visuals.py` Python script included with this project. The first two parameters passed to the function are the RMS Titanic data and passenger survival outcomes, respectively. The third parameter indicates which feature we want to plot survival statistics across.  \nRun the code cell below to plot the survival outcomes of passengers based on their sex."
    },
    {
      "metadata": {
        "trusted": true,
        "_uuid": "89d55921fa5c3390df6034816409164ff840efa9"
      },
      "cell_type": "code",
      "source": "vs.survival_stats(data, outcomes, 'Sex')",
      "execution_count": 64,
      "outputs": [
        {
          "output_type": "display_data",
          "data": {
            "text/plain": "<Figure size 576x432 with 1 Axes>",
            "image/png": "[encoded data removed]"
          },
          "metadata": {}
        }
      ]
    },
    {
      "metadata": {
        "trusted": true,
        "_uuid": "5f620539afd8f37767da3bf6d773d3d93bec75a4"
      },
      "cell_type": "code",
      "source": "vs.survival_stats(data, outcomes, 'Pclass')",
      "execution_count": 65,
      "outputs": [
        {
          "output_type": "display_data",
          "data": {
            "text/plain": "<Figure size 576x432 with 1 Axes>",
            "image/png": "[encoded data removed]"
          },
          "metadata": {}
        }
      ]
    },
    {
      "metadata": {
        "_uuid": "0359d4d9872932d758ad4245b84ddf47b4ab2d5d"
      },
      "cell_type": "markdown",
      "source": "Examining the survival statistics, a large majority of males did not survive the ship sinking. However, a majority of females *did* survive the ship sinking. Let's build on our previous prediction: If a passenger was female, then we will predict that they survived. Otherwise, we will predict the passenger did not survive.  \nFill in the missing code below so that the function will make this prediction.  \n**Hint:** You can access the values of each feature for a passenger like a dictionary. For example, `passenger['Sex']` is the sex of the passenger."
    },
    {
      "metadata": {
        "trusted": true,
        "_uuid": "2fa751e1f38e8ab18e360f80c9edb88998908769"
      },
      "cell_type": "code",
      "source": "def predictions_1(data):\n    \"\"\" Model with one feature: \n            - Predict a passenger survived if they are female. \"\"\"\n    \n    predictions = []\n    for _, passenger in data.iterrows():\n        \n        # Remove the 'pass' statement below \n        # and write your prediction conditions here\n        predictions.append(passenger['Sex'] == 'female')\n    \n    # Return our predictions\n    return pd.Series(predictions)\n\n# Make the predictions\npredictions = predictions_1(data)",
      "execution_count": 66,
      "outputs": []
    },
    {
      "metadata": {
        "_uuid": "6cb1c0ddc93cff503eb08380a5a5c2ced000ef94"
      },
      "cell_type": "markdown",
      "source": "### Question 2\n\n* How accurate would a prediction be that all female passengers survived and the remaining passengers did not survive?\n\n**Hint:** Run the code cell below to see the accuracy of this prediction."
    },
    {
      "metadata": {
        "trusted": true,
        "_uuid": "79a59c612080fff0366a3fc5059e277a1eb0b730"
      },
      "cell_type": "code",
      "source": "print(accuracy_score(outcomes, predictions))",
      "execution_count": 67,
      "outputs": [
        {
          "output_type": "stream",
          "text": "Predictions have an accuracy of 78.68%.\n",
          "name": "stdout"
        }
      ]
    },
    {
      "metadata": {
        "_uuid": "553e720aed19b039cc71a69228264ec474b47f7c"
      },
      "cell_type": "markdown",
      "source": "**Answer**: *Replace this text with the prediction accuracy you found above.*"
    },
    {
      "metadata": {
        "_uuid": "27ecc5319467881f515f84152e312fcf6715df74"
      },
      "cell_type": "markdown",
      "source": "** Vectorized implementation **"
    },
    {
      "metadata": {
        "trusted": true,
        "_uuid": "f0b05a2cc1e58e6aa5d8fcd7643143f3d6178ecc"
      },
      "cell_type": "code",
      "source": "predictions = (data.Sex == 'female')",
      "execution_count": 68,
      "outputs": []
    },
    {
      "metadata": {
        "trusted": true,
        "_uuid": "69eba0f02bc5d9d175948bd3b4514a9470291e4d"
      },
      "cell_type": "code",
      "source": "print(accuracy_score(outcomes, predictions))",
      "execution_count": 69,
      "outputs": [
        {
          "output_type": "stream",
          "text": "Predictions have an accuracy of 78.68%.\n",
          "name": "stdout"
        }
      ]
    },
    {
      "metadata": {
        "_uuid": "f9dcdfd64736cff4ec5a973d7261620bf1944c14"
      },
      "cell_type": "markdown",
      "source": "***\nUsing just the **Sex** feature for each passenger, we are able to increase the accuracy of our predictions by a significant margin. Now, let's consider using an additional feature to see if we can further improve our predictions. For example, consider all of the male passengers aboard the RMS Titanic: Can we find a subset of those passengers that had a higher rate of survival? Let's start by looking at the **Age** of each male, by again using the `survival_stats` function. This time, we'll use a fourth parameter to filter out the data so that only passengers with the **Sex** 'male' will be included.  \nRun the code cell below to plot the survival outcomes of male passengers based on their age."
    },
    {
      "metadata": {
        "trusted": true,
        "_uuid": "1ba81cd65fed8256182f8cb0843b26ad2bbe4ead"
      },
      "cell_type": "code",
      "source": "vs.survival_stats(data, outcomes, 'Age', [\"Sex == 'male'\"])",
      "execution_count": 70,
      "outputs": [
        {
          "output_type": "display_data",
          "data": {
            "text/plain": "<Figure size 576x432 with 1 Axes>",
            "image/png": "[encoded data removed]"
          },
          "metadata": {}
        }
      ]
    },
    {
      "metadata": {
        "collapsed": true,
        "_uuid": "28b4217088ab31f19a7e7f14698ec3d6a5da649b"
      },
      "cell_type": "markdown",
      "source": "Examining the survival statistics, the majority of males younger than 10 survived the ship sinking, whereas most males age 10 or older *did not survive* the ship sinking. Let's continue to build on our previous prediction: If a passenger was female, then we will predict they survive. If a passenger was male and younger than 10, then we will also predict they survive. Otherwise, we will predict they do not survive.  \nFill in the missing code below so that the function will make this prediction.  \n**Hint:** You can start your implementation of this function using the prediction code you wrote earlier from `predictions_1`."
    },
    {
      "metadata": {
        "trusted": true,
        "_uuid": "04bca59b46880dae598d4f9f51e408d87483c430"
      },
      "cell_type": "code",
      "source": "def predictions_2(data):\n    \"\"\" Model with two features: \n            - Predict a passenger survived if they are female.\n            - Predict a passenger survived if they are male and younger than 10. \"\"\"\n    \n    predictions = []\n    for _, passenger in data.iterrows():\n        \n        # Remove the 'pass' statement below \n        # and write your prediction conditions here\n        pass\n    \n    # Return our predictions\n    return pd.Series(predictions)\n\n# Make the predictions\npredictions = predictions_2(data)",
      "execution_count": 71,
      "outputs": []
    },
    {
      "metadata": {
        "_uuid": "fd9ca9274b293e0e013e7127dc3fad8e88660cf1"
      },
      "cell_type": "markdown",
      "source": "### Question 3\n\n* How accurate would a prediction be that all female passengers and all male passengers younger than 10 survived? \n\n**Hint:** Run the code cell below to see the accuracy of this prediction."
    },
    {
      "metadata": {
        "trusted": true,
        "_uuid": "c36b57859958528ca683571e4f37c80da50aded3"
      },
      "cell_type": "code",
      "source": "print(accuracy_score(outcomes, predictions))",
      "execution_count": 72,
      "outputs": [
        {
          "output_type": "stream",
          "text": "Number of predictions does not match number of outcomes!\n",
          "name": "stdout"
        }
      ]
    },
    {
      "metadata": {
        "trusted": true,
        "_uuid": "294baed1d5145a1ef04401e4792082ee62de7da8"
      },
      "cell_type": "code",
      "source": "cond1 = (data['Sex'] == 'female')\ncond2 = (data['Sex'] == 'male') & (data['Age'] < 10)\npredictions =  cond1 | cond2\n\nprint(accuracy_score(outcomes, predictions))",
      "execution_count": 73,
      "outputs": [
        {
          "output_type": "stream",
          "text": "Predictions have an accuracy of 79.35%.\n",
          "name": "stdout"
        }
      ]
    },
    {
      "metadata": {
        "_uuid": "4c38e5d182d9bfd52c4cd15661f23fe7d4040061"
      },
      "cell_type": "markdown",
      "source": "**Answer**: *Replace this text with the prediction accuracy you found above.*"
    },
    {
      "metadata": {
        "collapsed": true,
        "_uuid": "1191faa8d6a36f688fc4ff138a6aa0c903ea5c95"
      },
      "cell_type": "markdown",
      "source": "***\nAdding the feature **Age** as a condition in conjunction with **Sex** improves the accuracy by a small margin more than with simply using the feature **Sex** alone. Now it's your turn: Find a series of features and conditions to split the data on to obtain an outcome prediction accuracy of at least 80%. This may require multiple features and multiple levels of conditional statements to succeed. You can use the same feature multiple times with different conditions.   \n**Pclass**, **Sex**, **Age**, **SibSp**, and **Parch** are some suggested features to try.\n\nUse the `survival_stats` function below to to examine various survival statistics.  \n**Hint:** To use mulitple filter conditions, put each condition in the list passed as the last argument. Example: `[\"Sex == 'male'\", \"Age < 18\"]`"
    },
    {
      "metadata": {
        "trusted": true,
        "_uuid": "4d9834d49904cc35fd6e23b01fb52d8221a1c332"
      },
      "cell_type": "code",
      "source": "vs.survival_stats(data, outcomes, 'Age', [\"Sex == 'male'\", \"Age < 18\"])",
      "execution_count": 74,
      "outputs": [
        {
          "output_type": "display_data",
          "data": {
            "text/plain": "<Figure size 576x432 with 1 Axes>",
            "image/png": "[encoded data removed]"
          },
          "metadata": {}
        }
      ]
    },
    {
      "metadata": {
        "_uuid": "f515073135019b6a2aa222f7d15d251099e96c0e"
      },
      "cell_type": "markdown",
      "source": "After exploring the survival statistics visualization, fill in the missing code below so that the function will make your prediction.  \nMake sure to keep track of the various features and conditions you tried before arriving at your final prediction model.  \n**Hint:** You can start your implementation of this function using the prediction code you wrote earlier from `predictions_2`."
    },
    {
      "metadata": {
        "trusted": true,
        "_uuid": "5c5a5c3dae78c159274dfa50875e2e86d4366dc3"
      },
      "cell_type": "code",
      "source": "def predictions_3(data):\n    \"\"\" Model with multiple features. Makes a prediction with an accuracy of at least 80%. \"\"\"\n    \n    predictions = []\n    for _, passenger in data.iterrows():\n        \n        # Remove the 'pass' statement below \n        # and write your prediction conditions here\n        pass\n    \n    # Return our predictions\n    return pd.Series(predictions)\n\n# Make the predictions\npredictions = predictions_3(data)",
      "execution_count": 75,
      "outputs": []
    },
    {
      "metadata": {
        "_uuid": "ff49a1c043a21665651cd5b508c3dee16320ee50"
      },
      "cell_type": "markdown",
      "source": "### Question 4\n\n* Describe the steps you took to implement the final prediction model so that it got **an accuracy of at least 80%**. What features did you look at? Were certain features more informative than others? Which conditions did you use to split the survival outcomes in the data? How accurate are your predictions?\n\n**Hint:** Run the code cell below to see the accuracy of your predictions."
    },
    {
      "metadata": {
        "trusted": true,
        "_uuid": "4fcc719156d528722c903dd476ea9ba4ce8adbdd"
      },
      "cell_type": "code",
      "source": "print(accuracy_score(outcomes, predictions))",
      "execution_count": 76,
      "outputs": [
        {
          "output_type": "stream",
          "text": "Number of predictions does not match number of outcomes!\n",
          "name": "stdout"
        }
      ]
    },
    {
      "metadata": {
        "_uuid": "1fd49255fb0ac62554a469c5c3c2f202531af37f"
      },
      "cell_type": "markdown",
      "source": "**Answer**: *Replace this text with your answer to the question above.*"
    },
    {
      "metadata": {
        "_uuid": "80d4e93fde5860087f2f93f3af2749e5e010e1c4"
      },
      "cell_type": "markdown",
      "source": "# Conclusion\n\nAfter several iterations of exploring and conditioning on the data, you have built a useful algorithm for predicting the survival of each passenger aboard the RMS Titanic. The technique applied in this project is a manual implementation of a simple machine learning model, the *decision tree*. A decision tree splits a set of data into smaller and smaller groups (called *nodes*), by one feature at a time. Each time a subset of the data is split, our predictions become more accurate if each of the resulting subgroups are more homogeneous (contain similar labels) than before. The advantage of having a computer do things for us is that it will be more exhaustive and more precise than our manual exploration above. [This link](http://www.r2d3.us/visual-intro-to-machine-learning-part-1/) provides another introduction into machine learning using a decision tree.\n\nA decision tree is just one of many models that come from *supervised learning*. In supervised learning, we attempt to use features of the data to predict or model things with objective outcome labels. That is to say, each of our data points has a known outcome value, such as a categorical, discrete label like `'Survived'`, or a numerical, continuous value like predicting the price of a house.\n\n### Question 5\n*Think of a real-world scenario where supervised learning could be applied. What would be the outcome variable that you are trying to predict? Name two features about the data used in this scenario that might be helpful for making the predictions.*  "
    },
    {
      "metadata": {
        "_uuid": "555eef6fe9a791dc2c7f780e14d93cb5682250f2"
      },
      "cell_type": "markdown",
      "source": "**Answer**: *Replace this text with your answer to the question above.*"
    },
    {
      "metadata": {
        "_uuid": "b1b36b6898088eee30c145e7a05f97d4c3706079"
      },
      "cell_type": "markdown",
      "source": "> **Note**: Once you have completed all of the code implementations and successfully answered each question above, you may finalize your work by exporting the iPython Notebook as an HTML document. You can do this by using the menu above and navigating to  \n**File -> Download as -> HTML (.html)**. Include the finished document along with this notebook as your submission."
    },
    {
      "metadata": {
        "_uuid": "604eb87e522d40030b309ea3f904425864502151"
      },
      "cell_type": "markdown",
      "source": "## Behind the scenes\nhttps://github.com/udacity/machine-learning/blob/master/projects/titanic_survival_exploration/visuals.py"
    },
    {
      "metadata": {
        "collapsed": true,
        "trusted": false,
        "_uuid": "cf41d37e5247a98b0c02df8f69e16c090f7d0062"
      },
      "cell_type": "markdown",
      "source": "# Onto Models (Algorithms)\n\n---"
    },
    {
      "metadata": {
        "_uuid": "a55bb9d3d915d73076160d74fefc783240a3b90c"
      },
      "cell_type": "markdown",
      "source": "## Probabilistic, Tree and Regression algorithms (models)."
    },
    {
      "metadata": {
        "_uuid": "a4251a0b1aec388ae618cfb0a744356a7750a761"
      },
      "cell_type": "markdown",
      "source": "### Naive Baye's\nThe values in each column in `data` have some effect on the outcome. For example, the probability of a female passenger surviving is higher than a male passenger. How can this be formalized into an algorithm? \n\n- How to compute probabilities for real valued columns like `age`?\n- What's so naive about Naive Baye's ?\n- What's so Baye's about Naive Baye's ?"
    },
    {
      "metadata": {
        "_uuid": "89c4eb61f2564536230e3d686bda86501b4543e2"
      },
      "cell_type": "markdown",
      "source": "### Decision Tree\nRefining predictions with nested if-then-else's."
    },
    {
      "metadata": {
        "_uuid": "56a9459f1e9bd83bd3c4e6bdb873616e5cde6944"
      },
      "cell_type": "markdown",
      "source": "### Regression \nAssume that predictions are a linear combination of the column values."
    },
    {
      "metadata": {
        "trusted": true,
        "_uuid": "a4eeb72cd6b17f2acfe25b91d697b116e73473a6"
      },
      "cell_type": "markdown",
      "source": "## Prepare Data"
    },
    {
      "metadata": {
        "trusted": true,
        "_uuid": "c1f019b2f3699cf5efc28961ae131c82d9bf957f"
      },
      "cell_type": "code",
      "source": "data.shape",
      "execution_count": 77,
      "outputs": [
        {
          "output_type": "execute_result",
          "execution_count": 77,
          "data": {
            "text/plain": "(891, 11)"
          },
          "metadata": {}
        }
      ]
    },
    {
      "metadata": {
        "trusted": true,
        "_uuid": "bbf3a081f6d5470556b41d2d6c5e6c342eef5dc3"
      },
      "cell_type": "code",
      "source": "data.head()",
      "execution_count": 78,
      "outputs": [
        {
          "output_type": "execute_result",
          "execution_count": 78,
          "data": {
            "text/plain": "   PassengerId  Pclass   ...    Cabin Embarked\n0            1       3   ...      NaN        S\n1            2       1   ...      C85        C\n2            3       3   ...      NaN        S\n3            4       1   ...     C123        S\n4            5       3   ...      NaN        S\n\n[5 rows x 11 columns]",
            "text/html": "<div>\n<style scoped>\n    .dataframe tbody tr th:only-of-type {\n        vertical-align: middle;\n    }\n\n    .dataframe tbody tr th {\n        vertical-align: top;\n    }\n\n    .dataframe thead th {\n        text-align: right;\n    }\n</style>\n<table border=\"1\" class=\"dataframe\">\n  <thead>\n    <tr style=\"text-align: right;\">\n      <th></th>\n      <th>PassengerId</th>\n      <th>Pclass</th>\n      <th>Name</th>\n      <th>Sex</th>\n      <th>Age</th>\n      <th>SibSp</th>\n      <th>Parch</th>\n      <th>Ticket</th>\n      <th>Fare</th>\n      <th>Cabin</th>\n      <th>Embarked</th>\n    </tr>\n  </thead>\n  <tbody>\n    <tr>\n      <th>0</th>\n      <td>1</td>\n      <td>3</td>\n      <td>Braund, Mr. Owen Harris</td>\n      <td>male</td>\n      <td>22.0</td>\n      <td>1</td>\n      <td>0</td>\n      <td>A/5 21171</td>\n      <td>7.2500</td>\n      <td>NaN</td>\n      <td>S</td>\n    </tr>\n    <tr>\n      <th>1</th>\n      <td>2</td>\n      <td>1</td>\n      <td>Cumings, Mrs. John Bradley (Florence Briggs Th...</td>\n      <td>female</td>\n      <td>38.0</td>\n      <td>1</td>\n      <td>0</td>\n      <td>PC 17599</td>\n      <td>71.2833</td>\n      <td>C85</td>\n      <td>C</td>\n    </tr>\n    <tr>\n      <th>2</th>\n      <td>3</td>\n      <td>3</td>\n      <td>Heikkinen, Miss. Laina</td>\n      <td>female</td>\n      <td>26.0</td>\n      <td>0</td>\n      <td>0</td>\n      <td>STON/O2. 3101282</td>\n      <td>7.9250</td>\n      <td>NaN</td>\n      <td>S</td>\n    </tr>\n    <tr>\n      <th>3</th>\n      <td>4</td>\n      <td>1</td>\n      <td>Futrelle, Mrs. Jacques Heath (Lily May Peel)</td>\n      <td>female</td>\n      <td>35.0</td>\n      <td>1</td>\n      <td>0</td>\n      <td>113803</td>\n      <td>53.1000</td>\n      <td>C123</td>\n      <td>S</td>\n    </tr>\n    <tr>\n      <th>4</th>\n      <td>5</td>\n      <td>3</td>\n      <td>Allen, Mr. William Henry</td>\n      <td>male</td>\n      <td>35.0</td>\n      <td>0</td>\n      <td>0</td>\n      <td>373450</td>\n      <td>8.0500</td>\n      <td>NaN</td>\n      <td>S</td>\n    </tr>\n  </tbody>\n</table>\n</div>"
          },
          "metadata": {}
        }
      ]
    },
    {
      "metadata": {
        "trusted": true,
        "_uuid": "a602b56bd3217a5e9ab2c4fce910469fc5343abb"
      },
      "cell_type": "code",
      "source": "data.isna().sum(axis=0)",
      "execution_count": 79,
      "outputs": [
        {
          "output_type": "execute_result",
          "execution_count": 79,
          "data": {
            "text/plain": "PassengerId      0\nPclass           0\nName             0\nSex              0\nAge            177\nSibSp            0\nParch            0\nTicket           0\nFare             0\nCabin          687\nEmbarked         2\ndtype: int64"
          },
          "metadata": {}
        }
      ]
    },
    {
      "metadata": {
        "trusted": true,
        "_uuid": "c848b267fec73c8922ec1c8da71980afc526a1c6"
      },
      "cell_type": "code",
      "source": "sub_data = full_data[['Pclass','Sex','Age','Survived']].dropna()",
      "execution_count": 80,
      "outputs": []
    },
    {
      "metadata": {
        "trusted": true,
        "_uuid": "60a089ffb2ddde43b28e8bdd29203e98486007a9"
      },
      "cell_type": "code",
      "source": "sub_data.shape",
      "execution_count": 81,
      "outputs": [
        {
          "output_type": "execute_result",
          "execution_count": 81,
          "data": {
            "text/plain": "(714, 4)"
          },
          "metadata": {}
        }
      ]
    },
    {
      "metadata": {
        "trusted": true,
        "_uuid": "dd8b2dbc7d71308c0448b3488652b86ac469701b"
      },
      "cell_type": "code",
      "source": "sub_data.head()",
      "execution_count": 82,
      "outputs": [
        {
          "output_type": "execute_result",
          "execution_count": 82,
          "data": {
            "text/plain": "   Pclass     Sex   Age  Survived\n0       3    male  22.0         0\n1       1  female  38.0         1\n2       3  female  26.0         1\n3       1  female  35.0         1\n4       3    male  35.0         0",
            "text/html": "<div>\n<style scoped>\n    .dataframe tbody tr th:only-of-type {\n        vertical-align: middle;\n    }\n\n    .dataframe tbody tr th {\n        vertical-align: top;\n    }\n\n    .dataframe thead th {\n        text-align: right;\n    }\n</style>\n<table border=\"1\" class=\"dataframe\">\n  <thead>\n    <tr style=\"text-align: right;\">\n      <th></th>\n      <th>Pclass</th>\n      <th>Sex</th>\n      <th>Age</th>\n      <th>Survived</th>\n    </tr>\n  </thead>\n  <tbody>\n    <tr>\n      <th>0</th>\n      <td>3</td>\n      <td>male</td>\n      <td>22.0</td>\n      <td>0</td>\n    </tr>\n    <tr>\n      <th>1</th>\n      <td>1</td>\n      <td>female</td>\n      <td>38.0</td>\n      <td>1</td>\n    </tr>\n    <tr>\n      <th>2</th>\n      <td>3</td>\n      <td>female</td>\n      <td>26.0</td>\n      <td>1</td>\n    </tr>\n    <tr>\n      <th>3</th>\n      <td>1</td>\n      <td>female</td>\n      <td>35.0</td>\n      <td>1</td>\n    </tr>\n    <tr>\n      <th>4</th>\n      <td>3</td>\n      <td>male</td>\n      <td>35.0</td>\n      <td>0</td>\n    </tr>\n  </tbody>\n</table>\n</div>"
          },
          "metadata": {}
        }
      ]
    },
    {
      "metadata": {
        "trusted": true,
        "_uuid": "f755bb63d18a6b64151741bad3b2cb715123705e"
      },
      "cell_type": "code",
      "source": "for col in sub_data.columns:\n    print(col,':',sub_data[col].dtype)",
      "execution_count": 83,
      "outputs": [
        {
          "output_type": "stream",
          "text": "Pclass : int64\nSex : object\nAge : float64\nSurvived : int64\n",
          "name": "stdout"
        }
      ]
    },
    {
      "metadata": {
        "trusted": true,
        "_uuid": "d5b2c273818f97c3e7524118a5229a369729106d"
      },
      "cell_type": "code",
      "source": "sub_data.Sex = (sub_data.Sex == 'female').astype(np.int)",
      "execution_count": 84,
      "outputs": []
    },
    {
      "metadata": {
        "trusted": true,
        "_uuid": "f164639304f18500f6e283b74d187009a1aa0360"
      },
      "cell_type": "code",
      "source": "sub_data.head()",
      "execution_count": 85,
      "outputs": [
        {
          "output_type": "execute_result",
          "execution_count": 85,
          "data": {
            "text/plain": "   Pclass  Sex   Age  Survived\n0       3    0  22.0         0\n1       1    1  38.0         1\n2       3    1  26.0         1\n3       1    1  35.0         1\n4       3    0  35.0         0",
            "text/html": "<div>\n<style scoped>\n    .dataframe tbody tr th:only-of-type {\n        vertical-align: middle;\n    }\n\n    .dataframe tbody tr th {\n        vertical-align: top;\n    }\n\n    .dataframe thead th {\n        text-align: right;\n    }\n</style>\n<table border=\"1\" class=\"dataframe\">\n  <thead>\n    <tr style=\"text-align: right;\">\n      <th></th>\n      <th>Pclass</th>\n      <th>Sex</th>\n      <th>Age</th>\n      <th>Survived</th>\n    </tr>\n  </thead>\n  <tbody>\n    <tr>\n      <th>0</th>\n      <td>3</td>\n      <td>0</td>\n      <td>22.0</td>\n      <td>0</td>\n    </tr>\n    <tr>\n      <th>1</th>\n      <td>1</td>\n      <td>1</td>\n      <td>38.0</td>\n      <td>1</td>\n    </tr>\n    <tr>\n      <th>2</th>\n      <td>3</td>\n      <td>1</td>\n      <td>26.0</td>\n      <td>1</td>\n    </tr>\n    <tr>\n      <th>3</th>\n      <td>1</td>\n      <td>1</td>\n      <td>35.0</td>\n      <td>1</td>\n    </tr>\n    <tr>\n      <th>4</th>\n      <td>3</td>\n      <td>0</td>\n      <td>35.0</td>\n      <td>0</td>\n    </tr>\n  </tbody>\n</table>\n</div>"
          },
          "metadata": {}
        }
      ]
    },
    {
      "metadata": {
        "trusted": true,
        "_uuid": "37a890e1d997e38faf0527d124d12334378c2ecf"
      },
      "cell_type": "code",
      "source": "sub_features, sub_outcomes = sub_data.iloc[:, :-1], sub_data.iloc[:, -1]",
      "execution_count": 86,
      "outputs": []
    },
    {
      "metadata": {
        "trusted": true,
        "_uuid": "eb0a32685e9edd4ca1a7bb1cd500c986b0e1ca40"
      },
      "cell_type": "code",
      "source": "sub_features.head()",
      "execution_count": 87,
      "outputs": [
        {
          "output_type": "execute_result",
          "execution_count": 87,
          "data": {
            "text/plain": "   Pclass  Sex   Age\n0       3    0  22.0\n1       1    1  38.0\n2       3    1  26.0\n3       1    1  35.0\n4       3    0  35.0",
            "text/html": "<div>\n<style scoped>\n    .dataframe tbody tr th:only-of-type {\n        vertical-align: middle;\n    }\n\n    .dataframe tbody tr th {\n        vertical-align: top;\n    }\n\n    .dataframe thead th {\n        text-align: right;\n    }\n</style>\n<table border=\"1\" class=\"dataframe\">\n  <thead>\n    <tr style=\"text-align: right;\">\n      <th></th>\n      <th>Pclass</th>\n      <th>Sex</th>\n      <th>Age</th>\n    </tr>\n  </thead>\n  <tbody>\n    <tr>\n      <th>0</th>\n      <td>3</td>\n      <td>0</td>\n      <td>22.0</td>\n    </tr>\n    <tr>\n      <th>1</th>\n      <td>1</td>\n      <td>1</td>\n      <td>38.0</td>\n    </tr>\n    <tr>\n      <th>2</th>\n      <td>3</td>\n      <td>1</td>\n      <td>26.0</td>\n    </tr>\n    <tr>\n      <th>3</th>\n      <td>1</td>\n      <td>1</td>\n      <td>35.0</td>\n    </tr>\n    <tr>\n      <th>4</th>\n      <td>3</td>\n      <td>0</td>\n      <td>35.0</td>\n    </tr>\n  </tbody>\n</table>\n</div>"
          },
          "metadata": {}
        }
      ]
    },
    {
      "metadata": {
        "trusted": true,
        "_uuid": "f79f18df51372201987105117381cd998ecb89b3"
      },
      "cell_type": "code",
      "source": "sub_outcomes.head()",
      "execution_count": 88,
      "outputs": [
        {
          "output_type": "execute_result",
          "execution_count": 88,
          "data": {
            "text/plain": "0    0\n1    1\n2    1\n3    1\n4    0\nName: Survived, dtype: int64"
          },
          "metadata": {}
        }
      ]
    },
    {
      "metadata": {
        "_uuid": "fb3b3bfce5ead82710ce98a5bc67c6d6adc2815f"
      },
      "cell_type": "markdown",
      "source": "### Scale Data"
    },
    {
      "metadata": {
        "trusted": true,
        "_uuid": "91b59cb2ac2d3224f1ab6f7cc2b84445f7c7787f"
      },
      "cell_type": "code",
      "source": "from sklearn.preprocessing import MinMaxScaler",
      "execution_count": 89,
      "outputs": []
    },
    {
      "metadata": {
        "trusted": true,
        "_uuid": "b862d0174a2297c42510d03943c07d49382d836c"
      },
      "cell_type": "code",
      "source": "scaler = MinMaxScaler()",
      "execution_count": 90,
      "outputs": []
    },
    {
      "metadata": {
        "trusted": true,
        "_uuid": "925765756afff1dd87a1baae7a3291f0a2b04806"
      },
      "cell_type": "code",
      "source": "sub_features = scaler.fit_transform(sub_features)",
      "execution_count": 91,
      "outputs": [
        {
          "output_type": "stream",
          "text": "/opt/conda/lib/python3.6/site-packages/sklearn/preprocessing/data.py:323: DataConversionWarning: Data with input dtype int64, float64 were all converted to float64 by MinMaxScaler.\n  return self.partial_fit(X, y)\n",
          "name": "stderr"
        }
      ]
    },
    {
      "metadata": {
        "trusted": true,
        "_uuid": "b3193208481e4f92c1efeeb5742ab70d7244e08f"
      },
      "cell_type": "code",
      "source": "sub_features[:5]",
      "execution_count": 92,
      "outputs": [
        {
          "output_type": "execute_result",
          "execution_count": 92,
          "data": {
            "text/plain": "array([[1.        , 0.        , 0.27117366],\n       [0.        , 1.        , 0.4722292 ],\n       [1.        , 1.        , 0.32143755],\n       [0.        , 1.        , 0.43453129],\n       [1.        , 0.        , 0.43453129]])"
          },
          "metadata": {}
        }
      ]
    },
    {
      "metadata": {
        "_uuid": "009059baf870ddd4e700c359553046b68c63b3f7"
      },
      "cell_type": "markdown",
      "source": "### Split Data"
    },
    {
      "metadata": {
        "trusted": true,
        "_uuid": "0667bcc9e4fc904aebe267e7305c716cc74554a2"
      },
      "cell_type": "code",
      "source": "from sklearn.model_selection import train_test_split",
      "execution_count": 93,
      "outputs": []
    },
    {
      "metadata": {
        "trusted": true,
        "_uuid": "bc8064abfceefe58a36ad45ee09641900e12f06d"
      },
      "cell_type": "code",
      "source": "train_features, test_features, train_outcomes, test_outcomes = train_test_split(sub_features, sub_outcomes, test_size=0.20, random_state=0xDEAD)",
      "execution_count": 94,
      "outputs": []
    },
    {
      "metadata": {
        "trusted": true,
        "_uuid": "7fdddb6c76b433bd351881580b6d85fb6ba360be"
      },
      "cell_type": "code",
      "source": "print(train_features.shape, train_outcomes.shape)",
      "execution_count": 95,
      "outputs": [
        {
          "output_type": "stream",
          "text": "(571, 3) (571,)\n",
          "name": "stdout"
        }
      ]
    },
    {
      "metadata": {
        "trusted": true,
        "_uuid": "2667a68204e650dcd2f51abaf62e338ca8bc1b23"
      },
      "cell_type": "code",
      "source": "print(test_features.shape, test_outcomes.shape)",
      "execution_count": 96,
      "outputs": [
        {
          "output_type": "stream",
          "text": "(143, 3) (143,)\n",
          "name": "stdout"
        }
      ]
    },
    {
      "metadata": {
        "_uuid": "dce00df5d8950995a16331ab3aa79c5eb0bb06bf"
      },
      "cell_type": "markdown",
      "source": "## Naive Baye's Model"
    },
    {
      "metadata": {
        "_uuid": "975ebc46e1b9271f253d3e4b384dc4c989271ba9"
      },
      "cell_type": "markdown",
      "source": "### Fit model"
    },
    {
      "metadata": {
        "trusted": true,
        "_uuid": "f557d928574daf032c0eb0cf28fe3584b88643f0"
      },
      "cell_type": "code",
      "source": "from sklearn.naive_bayes import GaussianNB",
      "execution_count": 97,
      "outputs": []
    },
    {
      "metadata": {
        "trusted": true,
        "_uuid": "539b348172a9e83734c0a5ba15db682a73d6ec9f"
      },
      "cell_type": "code",
      "source": "clf_gnb = GaussianNB()",
      "execution_count": 98,
      "outputs": []
    },
    {
      "metadata": {
        "trusted": true,
        "_uuid": "96782d284ab923b5ea37add6f867c08c02d52c42"
      },
      "cell_type": "code",
      "source": "clf_gnb.fit(train_features, train_outcomes)",
      "execution_count": 99,
      "outputs": [
        {
          "output_type": "execute_result",
          "execution_count": 99,
          "data": {
            "text/plain": "GaussianNB(priors=None, var_smoothing=1e-09)"
          },
          "metadata": {}
        }
      ]
    },
    {
      "metadata": {
        "_uuid": "7cee017aa7ad8fd1d43558eacb2185259f37c4c3"
      },
      "cell_type": "markdown",
      "source": "### Evaluate model"
    },
    {
      "metadata": {
        "trusted": true,
        "_uuid": "a6d5efb4e7885393b14088f4a9e8c896d9c48802"
      },
      "cell_type": "code",
      "source": "clf_gnb.score(train_features, train_outcomes)",
      "execution_count": 100,
      "outputs": [
        {
          "output_type": "execute_result",
          "execution_count": 100,
          "data": {
            "text/plain": "0.7915936952714536"
          },
          "metadata": {}
        }
      ]
    },
    {
      "metadata": {
        "trusted": true,
        "_uuid": "82d966a76c3eb965f1ad06819d496abf25791bbd"
      },
      "cell_type": "code",
      "source": "clf_gnb.score(test_features, test_outcomes)",
      "execution_count": 101,
      "outputs": [
        {
          "output_type": "execute_result",
          "execution_count": 101,
          "data": {
            "text/plain": "0.7482517482517482"
          },
          "metadata": {}
        }
      ]
    },
    {
      "metadata": {
        "trusted": true,
        "_uuid": "b80b3a1975c5f630e45a825efa82cc4b2cc4459c"
      },
      "cell_type": "code",
      "source": "?clf_gnb.score",
      "execution_count": 102,
      "outputs": []
    },
    {
      "metadata": {
        "trusted": true,
        "_uuid": "12ba1547929676a6b7e58cfbbcee5465022a6239"
      },
      "cell_type": "code",
      "source": "from sklearn.metrics import f1_score",
      "execution_count": 103,
      "outputs": []
    },
    {
      "metadata": {
        "trusted": true,
        "_uuid": "e12dbd53416b13253b5dec74a247cd99d083b009"
      },
      "cell_type": "code",
      "source": "train_outcomes.dtype",
      "execution_count": 104,
      "outputs": [
        {
          "output_type": "execute_result",
          "execution_count": 104,
          "data": {
            "text/plain": "dtype('int64')"
          },
          "metadata": {}
        }
      ]
    },
    {
      "metadata": {
        "trusted": true,
        "_uuid": "510b5d1283465203a1c82b1e0b976ad7892fb6b8"
      },
      "cell_type": "code",
      "source": "f1_score(clf_gnb.predict(train_features), train_outcomes)",
      "execution_count": 105,
      "outputs": [
        {
          "output_type": "execute_result",
          "execution_count": 105,
          "data": {
            "text/plain": "0.7238979118329466"
          },
          "metadata": {}
        }
      ]
    },
    {
      "metadata": {
        "trusted": true,
        "_uuid": "22bec0bdeff0a0e556188d2d57fb84bd8ff792f5"
      },
      "cell_type": "code",
      "source": "f1_score(clf_gnb.predict(test_features), test_outcomes)",
      "execution_count": 106,
      "outputs": [
        {
          "output_type": "execute_result",
          "execution_count": 106,
          "data": {
            "text/plain": "0.7049180327868854"
          },
          "metadata": {}
        }
      ]
    },
    {
      "metadata": {
        "_uuid": "fbc68642596728ce09b64971cc29bb1971ec2542"
      },
      "cell_type": "markdown",
      "source": "  ** The GNB model performs only as good as a trial-and-error approach we used in P0. How can we improve the performance :**\n  \n  - Do we need more data?\n  - Do we need a more complex model?\n  \n  > This is the subject of P1 where we use learning curves to find if more data will help improve performance and then use model complexity plots to find the right model size. Note that the GNB model has very few parameters to tweak the model complexity."
    },
    {
      "metadata": {
        "_uuid": "04e1a834c91e1ecfebc8ad844d2718122a2d8c29"
      },
      "cell_type": "markdown",
      "source": "## Decision Tree Model"
    },
    {
      "metadata": {
        "trusted": true,
        "_uuid": "a8aff449bd0494f443e8121eede8f9f1c73c305e"
      },
      "cell_type": "code",
      "source": "from sklearn.tree import DecisionTreeClassifier",
      "execution_count": 107,
      "outputs": []
    },
    {
      "metadata": {
        "trusted": true,
        "_uuid": "423ddf24d4972366b84e48a67d495e2e3d23c902"
      },
      "cell_type": "code",
      "source": "clf_dtc = DecisionTreeClassifier(max_depth=3)",
      "execution_count": 108,
      "outputs": []
    },
    {
      "metadata": {
        "trusted": true,
        "_uuid": "f9080ece3655c80420c9c15ba9bf77e991d07f09"
      },
      "cell_type": "code",
      "source": "clf_dtc.fit(train_features, train_outcomes)",
      "execution_count": 109,
      "outputs": [
        {
          "output_type": "execute_result",
          "execution_count": 109,
          "data": {
            "text/plain": "DecisionTreeClassifier(class_weight=None, criterion='gini', max_depth=3,\n            max_features=None, max_leaf_nodes=None,\n            min_impurity_decrease=0.0, min_impurity_split=None,\n            min_samples_leaf=1, min_samples_split=2,\n            min_weight_fraction_leaf=0.0, presort=False, random_state=None,\n            splitter='best')"
          },
          "metadata": {}
        }
      ]
    },
    {
      "metadata": {
        "trusted": true,
        "_uuid": "54295833a81a00e7ef167f2ed7e165f1c699d4de"
      },
      "cell_type": "code",
      "source": "clf_dtc.score(train_features, train_outcomes)",
      "execution_count": 111,
      "outputs": [
        {
          "output_type": "execute_result",
          "execution_count": 111,
          "data": {
            "text/plain": "0.8231173380035026"
          },
          "metadata": {}
        }
      ]
    },
    {
      "metadata": {
        "trusted": true,
        "_uuid": "7e10bec14d2988e9e609c061e8ae5862e0a37156"
      },
      "cell_type": "code",
      "source": "clf_dtc.score(test_features, test_outcomes)",
      "execution_count": 112,
      "outputs": [
        {
          "output_type": "execute_result",
          "execution_count": 112,
          "data": {
            "text/plain": "0.7482517482517482"
          },
          "metadata": {}
        }
      ]
    },
    {
      "metadata": {
        "trusted": true,
        "_uuid": "841f0590cdf8fdfa3fe71149c9ad81aa679655db"
      },
      "cell_type": "markdown",
      "source": "** The tree model performs much better than trial and error on the training set, however it fails to get a similar performance on the test set. What's going wrong?**\n\nFortunately tree models have lots of knobs that can be turned ( look at the parameters of `DecisionTreeClassifier()`) to bridge the gap between the training and test performance.  Try setting the `max_depth` parameter to a small value, for example `DecisionTreeClassifier(max_depth=3)` and look at the effect it has on train and test accuracy. "
    },
    {
      "metadata": {
        "_uuid": "d79a381bad5cd015a7ed2ada28742b89ad65ef7b"
      },
      "cell_type": "markdown",
      "source": "## Final Notes\nLook at the visuals.py files for P0 and P1 and try to understand how the backbone code works.\n\n- **P0**: https://github.com/udacity/machine-learning/blob/master/projects/titanic_survival_exploration/visuals.py\n- **P1**: https://github.com/udacity/machine-learning/blob/master/projects/boston_housing/visuals.py"
    },
    {
      "metadata": {
        "trusted": true,
        "_uuid": "9e6a923bb41dfc04959a86058b21dd2a0340c3d3"
      },
      "cell_type": "code",
      "source": "",
      "execution_count": null,
      "outputs": []
    }
  ],
  "metadata": {
    "kernelspec": {
      "display_name": "Python 3",
      "language": "python",
      "name": "python3"
    },
    "language_info": {
      "name": "python",
      "version": "3.6.6",
      "mimetype": "text/x-python",
      "codemirror_mode": {
        "name": "ipython",
        "version": 3
      },
      "pygments_lexer": "ipython3",
      "nbconvert_exporter": "python",
      "file_extension": ".py"
    }
  },
  "nbformat": 4,
  "nbformat_minor": 1
}